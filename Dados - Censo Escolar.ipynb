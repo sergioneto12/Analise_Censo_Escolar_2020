{
 "cells": [
  {
   "cell_type": "markdown",
   "id": "4dd20eb4",
   "metadata": {},
   "source": [
    "# Problema"
   ]
  },
  {
   "cell_type": "markdown",
   "id": "a9654b5a",
   "metadata": {},
   "source": [
    "O âmbito escolar é uma das fases mais importantes para o crescimento social. Mas quais são os dados relevantes a essa situação, em um país de dimensões continentais?\n",
    "\n",
    "De acordo com o problema, e escolhido um nicho para se estudar o que há de parâmetros relevantes, o foco deste projeto é o estudo estatístico de como se comporta o censo escolar na questão da docência na região sudeste do país.\n",
    "\n",
    "Alguns dados como idade, sexo e a licencitatura, essênciais para o estudo do problema, são combinados com questões de maior afunilamento, prevendo ao final de estudo uma situação da qual poderiamos ter uma possível \"abertura\" a solução: quantos professores, dentro de uma amostra, serão de determinada matéria (neste caso, matemática), sendo levado em conta questões pertinentes ao cargo, como diploma, idade, pós-graduação, entre outros?"
   ]
  },
  {
   "cell_type": "code",
   "execution_count": 453,
   "id": "75d9d14a",
   "metadata": {},
   "outputs": [],
   "source": [
    "# Importando os módulos a serem utilizados\n",
    "\n",
    "import pandas as pd\n",
    "import numpy as np\n",
    "import matplotlib.pyplot as plt\n",
    "import seaborn as sns\n",
    "\n",
    "from sklearn.feature_selection import SelectKBest\n",
    "from sklearn.feature_selection import f_classif, chi2"
   ]
  },
  {
   "cell_type": "code",
   "execution_count": 454,
   "id": "602e40f1",
   "metadata": {},
   "outputs": [
    {
     "data": {
      "text/plain": [
       "'1.2.2'"
      ]
     },
     "execution_count": 454,
     "metadata": {},
     "output_type": "execute_result"
    }
   ],
   "source": [
    "pd.__version__"
   ]
  },
  {
   "cell_type": "code",
   "execution_count": 455,
   "id": "935c334a",
   "metadata": {},
   "outputs": [
    {
     "data": {
      "text/plain": [
       "'0.12.2'"
      ]
     },
     "execution_count": 455,
     "metadata": {},
     "output_type": "execute_result"
    }
   ],
   "source": [
    "sns.__version__"
   ]
  },
  {
   "cell_type": "code",
   "execution_count": 456,
   "id": "a9d7c718",
   "metadata": {},
   "outputs": [
    {
     "data": {
      "text/plain": [
       "'1.19.5'"
      ]
     },
     "execution_count": 456,
     "metadata": {},
     "output_type": "execute_result"
    }
   ],
   "source": [
    "np.__version__"
   ]
  },
  {
   "attachments": {},
   "cell_type": "markdown",
   "id": "091b5a46",
   "metadata": {},
   "source": [
    "# Carregamento e Tratamento dos dados  "
   ]
  },
  {
   "cell_type": "code",
   "execution_count": 457,
   "id": "147a69dd",
   "metadata": {},
   "outputs": [],
   "source": [
    "#importando dados do sudeste\n",
    "data_doc = pd.read_csv(\"DADOS/docentes_sudeste.csv\", sep=\"|\", nrows=500000)"
   ]
  },
  {
   "cell_type": "code",
   "execution_count": 458,
   "id": "8c575249",
   "metadata": {},
   "outputs": [
    {
     "data": {
      "text/html": [
       "<div>\n",
       "<style scoped>\n",
       "    .dataframe tbody tr th:only-of-type {\n",
       "        vertical-align: middle;\n",
       "    }\n",
       "\n",
       "    .dataframe tbody tr th {\n",
       "        vertical-align: top;\n",
       "    }\n",
       "\n",
       "    .dataframe thead th {\n",
       "        text-align: right;\n",
       "    }\n",
       "</style>\n",
       "<table border=\"1\" class=\"dataframe\">\n",
       "  <thead>\n",
       "    <tr style=\"text-align: right;\">\n",
       "      <th></th>\n",
       "      <th>NU_ANO_CENSO</th>\n",
       "      <th>ID_DOCENTE</th>\n",
       "      <th>NU_MES</th>\n",
       "      <th>NU_ANO</th>\n",
       "      <th>NU_IDADE_REFERENCIA</th>\n",
       "      <th>NU_IDADE</th>\n",
       "      <th>TP_SEXO</th>\n",
       "      <th>TP_COR_RACA</th>\n",
       "      <th>TP_NACIONALIDADE</th>\n",
       "      <th>CO_PAIS_ORIGEM</th>\n",
       "      <th>CO_UF_NASC</th>\n",
       "      <th>CO_MUNICIPIO_NASC</th>\n",
       "      <th>CO_UF_END</th>\n",
       "      <th>CO_MUNICIPIO_END</th>\n",
       "      <th>TP_ZONA_RESIDENCIAL</th>\n",
       "      <th>TP_LOCAL_RESID_DIFERENCIADA</th>\n",
       "      <th>IN_NECESSIDADE_ESPECIAL</th>\n",
       "      <th>IN_BAIXA_VISAO</th>\n",
       "      <th>IN_CEGUEIRA</th>\n",
       "      <th>IN_DEF_AUDITIVA</th>\n",
       "      <th>IN_DEF_FISICA</th>\n",
       "      <th>IN_DEF_INTELECTUAL</th>\n",
       "      <th>IN_SURDEZ</th>\n",
       "      <th>IN_SURDOCEGUEIRA</th>\n",
       "      <th>IN_DEF_MULTIPLA</th>\n",
       "      <th>IN_AUTISMO</th>\n",
       "      <th>IN_SUPERDOTACAO</th>\n",
       "      <th>TP_ESCOLARIDADE</th>\n",
       "      <th>TP_ENSINO_MEDIO</th>\n",
       "      <th>TP_SITUACAO_CURSO_1</th>\n",
       "      <th>CO_AREA_CURSO_1</th>\n",
       "      <th>CO_CURSO_1</th>\n",
       "      <th>IN_LICENCIATURA_1</th>\n",
       "      <th>NU_ANO_CONCLUSAO_1</th>\n",
       "      <th>TP_TIPO_IES_1</th>\n",
       "      <th>CO_IES_1</th>\n",
       "      <th>TP_SITUACAO_CURSO_2</th>\n",
       "      <th>CO_AREA_CURSO_2</th>\n",
       "      <th>CO_CURSO_2</th>\n",
       "      <th>IN_LICENCIATURA_2</th>\n",
       "      <th>NU_ANO_CONCLUSAO_2</th>\n",
       "      <th>TP_TIPO_IES_2</th>\n",
       "      <th>CO_IES_2</th>\n",
       "      <th>TP_SITUACAO_CURSO_3</th>\n",
       "      <th>CO_AREA_CURSO_3</th>\n",
       "      <th>CO_CURSO_3</th>\n",
       "      <th>IN_LICENCIATURA_3</th>\n",
       "      <th>NU_ANO_CONCLUSAO_3</th>\n",
       "      <th>TP_TIPO_IES_3</th>\n",
       "      <th>CO_IES_3</th>\n",
       "      <th>IN_COMPLEMENTACAO_PEDAGOGICA</th>\n",
       "      <th>CO_AREA_COMPL_PEDAGOGICA_1</th>\n",
       "      <th>CO_AREA_COMPL_PEDAGOGICA_2</th>\n",
       "      <th>CO_AREA_COMPL_PEDAGOGICA_3</th>\n",
       "      <th>IN_ESPECIALIZACAO</th>\n",
       "      <th>IN_MESTRADO</th>\n",
       "      <th>IN_DOUTORADO</th>\n",
       "      <th>IN_POS_NENHUM</th>\n",
       "      <th>IN_ESPECIFICO_CRECHE</th>\n",
       "      <th>IN_ESPECIFICO_PRE_ESCOLA</th>\n",
       "      <th>IN_ESPECIFICO_ANOS_INICIAIS</th>\n",
       "      <th>IN_ESPECIFICO_ANOS_FINAIS</th>\n",
       "      <th>IN_ESPECIFICO_ENS_MEDIO</th>\n",
       "      <th>IN_ESPECIFICO_EJA</th>\n",
       "      <th>IN_ESPECIFICO_ED_ESPECIAL</th>\n",
       "      <th>IN_ESPECIFICO_ED_INDIGENA</th>\n",
       "      <th>IN_ESPECIFICO_CAMPO</th>\n",
       "      <th>IN_ESPECIFICO_AMBIENTAL</th>\n",
       "      <th>IN_ESPECIFICO_DIR_HUMANOS</th>\n",
       "      <th>IN_ESPECIFICO_DIV_SEXUAL</th>\n",
       "      <th>IN_ESPECIFICO_DIR_ADOLESC</th>\n",
       "      <th>IN_ESPECIFICO_AFRO</th>\n",
       "      <th>IN_ESPECIFICO_GESTAO</th>\n",
       "      <th>IN_ESPECIFICO_OUTROS</th>\n",
       "      <th>IN_ESPECIFICO_NENHUM</th>\n",
       "      <th>ID_TURMA</th>\n",
       "      <th>TP_TIPO_DOCENTE</th>\n",
       "      <th>TP_TIPO_CONTRATACAO</th>\n",
       "      <th>IN_DISC_LINGUA_PORTUGUESA</th>\n",
       "      <th>IN_DISC_EDUCACAO_FISICA</th>\n",
       "      <th>IN_DISC_ARTES</th>\n",
       "      <th>IN_DISC_LINGUA_INGLES</th>\n",
       "      <th>IN_DISC_LINGUA_ESPANHOL</th>\n",
       "      <th>IN_DISC_LINGUA_FRANCES</th>\n",
       "      <th>IN_DISC_LINGUA_OUTRA</th>\n",
       "      <th>IN_DISC_LIBRAS</th>\n",
       "      <th>IN_DISC_LINGUA_INDIGENA</th>\n",
       "      <th>IN_DISC_PORT_SEGUNDA_LINGUA</th>\n",
       "      <th>IN_DISC_MATEMATICA</th>\n",
       "      <th>IN_DISC_CIENCIAS</th>\n",
       "      <th>IN_DISC_FISICA</th>\n",
       "      <th>IN_DISC_QUIMICA</th>\n",
       "      <th>IN_DISC_BIOLOGIA</th>\n",
       "      <th>IN_DISC_HISTORIA</th>\n",
       "      <th>IN_DISC_GEOGRAFIA</th>\n",
       "      <th>IN_DISC_SOCIOLOGIA</th>\n",
       "      <th>IN_DISC_FILOSOFIA</th>\n",
       "      <th>IN_DISC_ESTUDOS_SOCIAIS</th>\n",
       "      <th>IN_DISC_EST_SOCIAIS_SOCIOLOGIA</th>\n",
       "      <th>IN_DISC_INFORMATICA_COMPUTACAO</th>\n",
       "      <th>IN_DISC_ENSINO_RELIGIOSO</th>\n",
       "      <th>IN_DISC_PROFISSIONALIZANTE</th>\n",
       "      <th>IN_DISC_ESTAGIO_SUPERVISIONADO</th>\n",
       "      <th>IN_DISC_PEDAGOGICAS</th>\n",
       "      <th>IN_DISC_OUTRAS</th>\n",
       "      <th>TP_TIPO_ATENDIMENTO_TURMA</th>\n",
       "      <th>TP_TIPO_LOCAL_TURMA</th>\n",
       "      <th>TP_MEDIACAO_DIDATICO_PEDAGO</th>\n",
       "      <th>TP_ETAPA_ENSINO</th>\n",
       "      <th>CO_CURSO_EDUC_PROFISSIONAL</th>\n",
       "      <th>IN_ESPECIAL_EXCLUSIVA</th>\n",
       "      <th>IN_REGULAR</th>\n",
       "      <th>IN_EJA</th>\n",
       "      <th>IN_PROFISSIONALIZANTE</th>\n",
       "      <th>CO_ENTIDADE</th>\n",
       "      <th>CO_REGIAO</th>\n",
       "      <th>CO_MESORREGIAO</th>\n",
       "      <th>CO_MICRORREGIAO</th>\n",
       "      <th>CO_UF</th>\n",
       "      <th>CO_MUNICIPIO</th>\n",
       "      <th>CO_DISTRITO</th>\n",
       "      <th>TP_DEPENDENCIA</th>\n",
       "      <th>TP_LOCALIZACAO</th>\n",
       "      <th>TP_CATEGORIA_ESCOLA_PRIVADA</th>\n",
       "      <th>IN_CONVENIADA_PP</th>\n",
       "      <th>TP_CONVENIO_PODER_PUBLICO</th>\n",
       "      <th>IN_MANT_ESCOLA_PRIVADA_EMP</th>\n",
       "      <th>IN_MANT_ESCOLA_PRIVADA_ONG</th>\n",
       "      <th>IN_MANT_ESCOLA_PRIVADA_OSCIP</th>\n",
       "      <th>IN_MANT_ESCOLA_PRIV_ONG_OSCIP</th>\n",
       "      <th>IN_MANT_ESCOLA_PRIVADA_SIND</th>\n",
       "      <th>IN_MANT_ESCOLA_PRIVADA_SIST_S</th>\n",
       "      <th>IN_MANT_ESCOLA_PRIVADA_S_FINS</th>\n",
       "      <th>TP_REGULAMENTACAO</th>\n",
       "      <th>TP_LOCALIZACAO_DIFERENCIADA</th>\n",
       "      <th>IN_EDUCACAO_INDIGENA</th>\n",
       "    </tr>\n",
       "  </thead>\n",
       "  <tbody>\n",
       "    <tr>\n",
       "      <th>0</th>\n",
       "      <td>2020</td>\n",
       "      <td>000010AFF43652695ED86DBBB3D09E4F</td>\n",
       "      <td>5</td>\n",
       "      <td>1987</td>\n",
       "      <td>33</td>\n",
       "      <td>33</td>\n",
       "      <td>1</td>\n",
       "      <td>1</td>\n",
       "      <td>1</td>\n",
       "      <td>76</td>\n",
       "      <td>35.0</td>\n",
       "      <td>3550308.0</td>\n",
       "      <td>NaN</td>\n",
       "      <td>NaN</td>\n",
       "      <td>1.0</td>\n",
       "      <td>9</td>\n",
       "      <td>0</td>\n",
       "      <td>NaN</td>\n",
       "      <td>NaN</td>\n",
       "      <td>NaN</td>\n",
       "      <td>NaN</td>\n",
       "      <td>NaN</td>\n",
       "      <td>NaN</td>\n",
       "      <td>NaN</td>\n",
       "      <td>NaN</td>\n",
       "      <td>NaN</td>\n",
       "      <td>NaN</td>\n",
       "      <td>4</td>\n",
       "      <td>NaN</td>\n",
       "      <td>1.0</td>\n",
       "      <td>0.0</td>\n",
       "      <td>0114M011</td>\n",
       "      <td>1</td>\n",
       "      <td>2015.0</td>\n",
       "      <td>2.0</td>\n",
       "      <td>316.0</td>\n",
       "      <td>NaN</td>\n",
       "      <td>NaN</td>\n",
       "      <td>NaN</td>\n",
       "      <td>0</td>\n",
       "      <td>NaN</td>\n",
       "      <td>NaN</td>\n",
       "      <td>NaN</td>\n",
       "      <td>NaN</td>\n",
       "      <td>NaN</td>\n",
       "      <td>NaN</td>\n",
       "      <td>0</td>\n",
       "      <td>NaN</td>\n",
       "      <td>NaN</td>\n",
       "      <td>NaN</td>\n",
       "      <td>0</td>\n",
       "      <td>NaN</td>\n",
       "      <td>NaN</td>\n",
       "      <td>NaN</td>\n",
       "      <td>0.0</td>\n",
       "      <td>0.0</td>\n",
       "      <td>0.0</td>\n",
       "      <td>1.0</td>\n",
       "      <td>0</td>\n",
       "      <td>0</td>\n",
       "      <td>0</td>\n",
       "      <td>0</td>\n",
       "      <td>0</td>\n",
       "      <td>0</td>\n",
       "      <td>0</td>\n",
       "      <td>0</td>\n",
       "      <td>0</td>\n",
       "      <td>0</td>\n",
       "      <td>0</td>\n",
       "      <td>0</td>\n",
       "      <td>0</td>\n",
       "      <td>0</td>\n",
       "      <td>0</td>\n",
       "      <td>0</td>\n",
       "      <td>1</td>\n",
       "      <td>21282104</td>\n",
       "      <td>1</td>\n",
       "      <td>NaN</td>\n",
       "      <td>0.0</td>\n",
       "      <td>0.0</td>\n",
       "      <td>0.0</td>\n",
       "      <td>0.0</td>\n",
       "      <td>0.0</td>\n",
       "      <td>0.0</td>\n",
       "      <td>0.0</td>\n",
       "      <td>0.0</td>\n",
       "      <td>0.0</td>\n",
       "      <td>0.0</td>\n",
       "      <td>1.0</td>\n",
       "      <td>NaN</td>\n",
       "      <td>0.0</td>\n",
       "      <td>0.0</td>\n",
       "      <td>0.0</td>\n",
       "      <td>0.0</td>\n",
       "      <td>0.0</td>\n",
       "      <td>0.0</td>\n",
       "      <td>0.0</td>\n",
       "      <td>NaN</td>\n",
       "      <td>0.0</td>\n",
       "      <td>0.0</td>\n",
       "      <td>0.0</td>\n",
       "      <td>NaN</td>\n",
       "      <td>NaN</td>\n",
       "      <td>NaN</td>\n",
       "      <td>0.0</td>\n",
       "      <td>1</td>\n",
       "      <td>0.0</td>\n",
       "      <td>1</td>\n",
       "      <td>25.0</td>\n",
       "      <td>NaN</td>\n",
       "      <td>0.0</td>\n",
       "      <td>1.0</td>\n",
       "      <td>0.0</td>\n",
       "      <td>0.0</td>\n",
       "      <td>35127231</td>\n",
       "      <td>3</td>\n",
       "      <td>3515</td>\n",
       "      <td>35061</td>\n",
       "      <td>35</td>\n",
       "      <td>3550308</td>\n",
       "      <td>355030891</td>\n",
       "      <td>4</td>\n",
       "      <td>1</td>\n",
       "      <td>4.0</td>\n",
       "      <td>0.0</td>\n",
       "      <td>NaN</td>\n",
       "      <td>1.0</td>\n",
       "      <td>0.0</td>\n",
       "      <td>0.0</td>\n",
       "      <td>0.0</td>\n",
       "      <td>0.0</td>\n",
       "      <td>0.0</td>\n",
       "      <td>0.0</td>\n",
       "      <td>1</td>\n",
       "      <td>0</td>\n",
       "      <td>0</td>\n",
       "    </tr>\n",
       "    <tr>\n",
       "      <th>1</th>\n",
       "      <td>2020</td>\n",
       "      <td>000010AFF43652695ED86DBBB3D09E4F</td>\n",
       "      <td>5</td>\n",
       "      <td>1987</td>\n",
       "      <td>33</td>\n",
       "      <td>33</td>\n",
       "      <td>1</td>\n",
       "      <td>1</td>\n",
       "      <td>1</td>\n",
       "      <td>76</td>\n",
       "      <td>35.0</td>\n",
       "      <td>3550308.0</td>\n",
       "      <td>NaN</td>\n",
       "      <td>NaN</td>\n",
       "      <td>1.0</td>\n",
       "      <td>9</td>\n",
       "      <td>0</td>\n",
       "      <td>NaN</td>\n",
       "      <td>NaN</td>\n",
       "      <td>NaN</td>\n",
       "      <td>NaN</td>\n",
       "      <td>NaN</td>\n",
       "      <td>NaN</td>\n",
       "      <td>NaN</td>\n",
       "      <td>NaN</td>\n",
       "      <td>NaN</td>\n",
       "      <td>NaN</td>\n",
       "      <td>4</td>\n",
       "      <td>NaN</td>\n",
       "      <td>1.0</td>\n",
       "      <td>0.0</td>\n",
       "      <td>0114M011</td>\n",
       "      <td>1</td>\n",
       "      <td>2015.0</td>\n",
       "      <td>2.0</td>\n",
       "      <td>316.0</td>\n",
       "      <td>NaN</td>\n",
       "      <td>NaN</td>\n",
       "      <td>NaN</td>\n",
       "      <td>0</td>\n",
       "      <td>NaN</td>\n",
       "      <td>NaN</td>\n",
       "      <td>NaN</td>\n",
       "      <td>NaN</td>\n",
       "      <td>NaN</td>\n",
       "      <td>NaN</td>\n",
       "      <td>0</td>\n",
       "      <td>NaN</td>\n",
       "      <td>NaN</td>\n",
       "      <td>NaN</td>\n",
       "      <td>0</td>\n",
       "      <td>NaN</td>\n",
       "      <td>NaN</td>\n",
       "      <td>NaN</td>\n",
       "      <td>0.0</td>\n",
       "      <td>0.0</td>\n",
       "      <td>0.0</td>\n",
       "      <td>1.0</td>\n",
       "      <td>0</td>\n",
       "      <td>0</td>\n",
       "      <td>0</td>\n",
       "      <td>0</td>\n",
       "      <td>0</td>\n",
       "      <td>0</td>\n",
       "      <td>0</td>\n",
       "      <td>0</td>\n",
       "      <td>0</td>\n",
       "      <td>0</td>\n",
       "      <td>0</td>\n",
       "      <td>0</td>\n",
       "      <td>0</td>\n",
       "      <td>0</td>\n",
       "      <td>0</td>\n",
       "      <td>0</td>\n",
       "      <td>1</td>\n",
       "      <td>21282105</td>\n",
       "      <td>1</td>\n",
       "      <td>NaN</td>\n",
       "      <td>0.0</td>\n",
       "      <td>0.0</td>\n",
       "      <td>0.0</td>\n",
       "      <td>0.0</td>\n",
       "      <td>0.0</td>\n",
       "      <td>0.0</td>\n",
       "      <td>0.0</td>\n",
       "      <td>0.0</td>\n",
       "      <td>0.0</td>\n",
       "      <td>0.0</td>\n",
       "      <td>1.0</td>\n",
       "      <td>NaN</td>\n",
       "      <td>0.0</td>\n",
       "      <td>0.0</td>\n",
       "      <td>0.0</td>\n",
       "      <td>0.0</td>\n",
       "      <td>0.0</td>\n",
       "      <td>0.0</td>\n",
       "      <td>0.0</td>\n",
       "      <td>NaN</td>\n",
       "      <td>0.0</td>\n",
       "      <td>0.0</td>\n",
       "      <td>0.0</td>\n",
       "      <td>NaN</td>\n",
       "      <td>NaN</td>\n",
       "      <td>NaN</td>\n",
       "      <td>0.0</td>\n",
       "      <td>1</td>\n",
       "      <td>0.0</td>\n",
       "      <td>1</td>\n",
       "      <td>26.0</td>\n",
       "      <td>NaN</td>\n",
       "      <td>0.0</td>\n",
       "      <td>1.0</td>\n",
       "      <td>0.0</td>\n",
       "      <td>0.0</td>\n",
       "      <td>35127231</td>\n",
       "      <td>3</td>\n",
       "      <td>3515</td>\n",
       "      <td>35061</td>\n",
       "      <td>35</td>\n",
       "      <td>3550308</td>\n",
       "      <td>355030891</td>\n",
       "      <td>4</td>\n",
       "      <td>1</td>\n",
       "      <td>4.0</td>\n",
       "      <td>0.0</td>\n",
       "      <td>NaN</td>\n",
       "      <td>1.0</td>\n",
       "      <td>0.0</td>\n",
       "      <td>0.0</td>\n",
       "      <td>0.0</td>\n",
       "      <td>0.0</td>\n",
       "      <td>0.0</td>\n",
       "      <td>0.0</td>\n",
       "      <td>1</td>\n",
       "      <td>0</td>\n",
       "      <td>0</td>\n",
       "    </tr>\n",
       "    <tr>\n",
       "      <th>2</th>\n",
       "      <td>2020</td>\n",
       "      <td>000010AFF43652695ED86DBBB3D09E4F</td>\n",
       "      <td>5</td>\n",
       "      <td>1987</td>\n",
       "      <td>33</td>\n",
       "      <td>33</td>\n",
       "      <td>1</td>\n",
       "      <td>1</td>\n",
       "      <td>1</td>\n",
       "      <td>76</td>\n",
       "      <td>35.0</td>\n",
       "      <td>3550308.0</td>\n",
       "      <td>NaN</td>\n",
       "      <td>NaN</td>\n",
       "      <td>1.0</td>\n",
       "      <td>9</td>\n",
       "      <td>0</td>\n",
       "      <td>NaN</td>\n",
       "      <td>NaN</td>\n",
       "      <td>NaN</td>\n",
       "      <td>NaN</td>\n",
       "      <td>NaN</td>\n",
       "      <td>NaN</td>\n",
       "      <td>NaN</td>\n",
       "      <td>NaN</td>\n",
       "      <td>NaN</td>\n",
       "      <td>NaN</td>\n",
       "      <td>4</td>\n",
       "      <td>NaN</td>\n",
       "      <td>1.0</td>\n",
       "      <td>0.0</td>\n",
       "      <td>0114M011</td>\n",
       "      <td>1</td>\n",
       "      <td>2015.0</td>\n",
       "      <td>2.0</td>\n",
       "      <td>316.0</td>\n",
       "      <td>NaN</td>\n",
       "      <td>NaN</td>\n",
       "      <td>NaN</td>\n",
       "      <td>0</td>\n",
       "      <td>NaN</td>\n",
       "      <td>NaN</td>\n",
       "      <td>NaN</td>\n",
       "      <td>NaN</td>\n",
       "      <td>NaN</td>\n",
       "      <td>NaN</td>\n",
       "      <td>0</td>\n",
       "      <td>NaN</td>\n",
       "      <td>NaN</td>\n",
       "      <td>NaN</td>\n",
       "      <td>0</td>\n",
       "      <td>NaN</td>\n",
       "      <td>NaN</td>\n",
       "      <td>NaN</td>\n",
       "      <td>0.0</td>\n",
       "      <td>0.0</td>\n",
       "      <td>0.0</td>\n",
       "      <td>1.0</td>\n",
       "      <td>0</td>\n",
       "      <td>0</td>\n",
       "      <td>0</td>\n",
       "      <td>0</td>\n",
       "      <td>0</td>\n",
       "      <td>0</td>\n",
       "      <td>0</td>\n",
       "      <td>0</td>\n",
       "      <td>0</td>\n",
       "      <td>0</td>\n",
       "      <td>0</td>\n",
       "      <td>0</td>\n",
       "      <td>0</td>\n",
       "      <td>0</td>\n",
       "      <td>0</td>\n",
       "      <td>0</td>\n",
       "      <td>1</td>\n",
       "      <td>21282106</td>\n",
       "      <td>1</td>\n",
       "      <td>NaN</td>\n",
       "      <td>0.0</td>\n",
       "      <td>0.0</td>\n",
       "      <td>0.0</td>\n",
       "      <td>0.0</td>\n",
       "      <td>0.0</td>\n",
       "      <td>0.0</td>\n",
       "      <td>0.0</td>\n",
       "      <td>0.0</td>\n",
       "      <td>0.0</td>\n",
       "      <td>0.0</td>\n",
       "      <td>1.0</td>\n",
       "      <td>NaN</td>\n",
       "      <td>0.0</td>\n",
       "      <td>0.0</td>\n",
       "      <td>0.0</td>\n",
       "      <td>0.0</td>\n",
       "      <td>0.0</td>\n",
       "      <td>0.0</td>\n",
       "      <td>0.0</td>\n",
       "      <td>NaN</td>\n",
       "      <td>0.0</td>\n",
       "      <td>0.0</td>\n",
       "      <td>0.0</td>\n",
       "      <td>NaN</td>\n",
       "      <td>NaN</td>\n",
       "      <td>NaN</td>\n",
       "      <td>0.0</td>\n",
       "      <td>1</td>\n",
       "      <td>0.0</td>\n",
       "      <td>1</td>\n",
       "      <td>26.0</td>\n",
       "      <td>NaN</td>\n",
       "      <td>0.0</td>\n",
       "      <td>1.0</td>\n",
       "      <td>0.0</td>\n",
       "      <td>0.0</td>\n",
       "      <td>35127231</td>\n",
       "      <td>3</td>\n",
       "      <td>3515</td>\n",
       "      <td>35061</td>\n",
       "      <td>35</td>\n",
       "      <td>3550308</td>\n",
       "      <td>355030891</td>\n",
       "      <td>4</td>\n",
       "      <td>1</td>\n",
       "      <td>4.0</td>\n",
       "      <td>0.0</td>\n",
       "      <td>NaN</td>\n",
       "      <td>1.0</td>\n",
       "      <td>0.0</td>\n",
       "      <td>0.0</td>\n",
       "      <td>0.0</td>\n",
       "      <td>0.0</td>\n",
       "      <td>0.0</td>\n",
       "      <td>0.0</td>\n",
       "      <td>1</td>\n",
       "      <td>0</td>\n",
       "      <td>0</td>\n",
       "    </tr>\n",
       "    <tr>\n",
       "      <th>3</th>\n",
       "      <td>2020</td>\n",
       "      <td>000010AFF43652695ED86DBBB3D09E4F</td>\n",
       "      <td>5</td>\n",
       "      <td>1987</td>\n",
       "      <td>33</td>\n",
       "      <td>33</td>\n",
       "      <td>1</td>\n",
       "      <td>1</td>\n",
       "      <td>1</td>\n",
       "      <td>76</td>\n",
       "      <td>35.0</td>\n",
       "      <td>3550308.0</td>\n",
       "      <td>NaN</td>\n",
       "      <td>NaN</td>\n",
       "      <td>1.0</td>\n",
       "      <td>9</td>\n",
       "      <td>0</td>\n",
       "      <td>NaN</td>\n",
       "      <td>NaN</td>\n",
       "      <td>NaN</td>\n",
       "      <td>NaN</td>\n",
       "      <td>NaN</td>\n",
       "      <td>NaN</td>\n",
       "      <td>NaN</td>\n",
       "      <td>NaN</td>\n",
       "      <td>NaN</td>\n",
       "      <td>NaN</td>\n",
       "      <td>4</td>\n",
       "      <td>NaN</td>\n",
       "      <td>1.0</td>\n",
       "      <td>0.0</td>\n",
       "      <td>0114M011</td>\n",
       "      <td>1</td>\n",
       "      <td>2015.0</td>\n",
       "      <td>2.0</td>\n",
       "      <td>316.0</td>\n",
       "      <td>NaN</td>\n",
       "      <td>NaN</td>\n",
       "      <td>NaN</td>\n",
       "      <td>0</td>\n",
       "      <td>NaN</td>\n",
       "      <td>NaN</td>\n",
       "      <td>NaN</td>\n",
       "      <td>NaN</td>\n",
       "      <td>NaN</td>\n",
       "      <td>NaN</td>\n",
       "      <td>0</td>\n",
       "      <td>NaN</td>\n",
       "      <td>NaN</td>\n",
       "      <td>NaN</td>\n",
       "      <td>0</td>\n",
       "      <td>NaN</td>\n",
       "      <td>NaN</td>\n",
       "      <td>NaN</td>\n",
       "      <td>0.0</td>\n",
       "      <td>0.0</td>\n",
       "      <td>0.0</td>\n",
       "      <td>1.0</td>\n",
       "      <td>0</td>\n",
       "      <td>0</td>\n",
       "      <td>0</td>\n",
       "      <td>0</td>\n",
       "      <td>0</td>\n",
       "      <td>0</td>\n",
       "      <td>0</td>\n",
       "      <td>0</td>\n",
       "      <td>0</td>\n",
       "      <td>0</td>\n",
       "      <td>0</td>\n",
       "      <td>0</td>\n",
       "      <td>0</td>\n",
       "      <td>0</td>\n",
       "      <td>0</td>\n",
       "      <td>0</td>\n",
       "      <td>1</td>\n",
       "      <td>21282704</td>\n",
       "      <td>1</td>\n",
       "      <td>NaN</td>\n",
       "      <td>0.0</td>\n",
       "      <td>0.0</td>\n",
       "      <td>0.0</td>\n",
       "      <td>0.0</td>\n",
       "      <td>0.0</td>\n",
       "      <td>0.0</td>\n",
       "      <td>0.0</td>\n",
       "      <td>0.0</td>\n",
       "      <td>0.0</td>\n",
       "      <td>0.0</td>\n",
       "      <td>1.0</td>\n",
       "      <td>NaN</td>\n",
       "      <td>0.0</td>\n",
       "      <td>0.0</td>\n",
       "      <td>0.0</td>\n",
       "      <td>0.0</td>\n",
       "      <td>0.0</td>\n",
       "      <td>0.0</td>\n",
       "      <td>0.0</td>\n",
       "      <td>NaN</td>\n",
       "      <td>0.0</td>\n",
       "      <td>0.0</td>\n",
       "      <td>0.0</td>\n",
       "      <td>NaN</td>\n",
       "      <td>NaN</td>\n",
       "      <td>NaN</td>\n",
       "      <td>0.0</td>\n",
       "      <td>1</td>\n",
       "      <td>0.0</td>\n",
       "      <td>1</td>\n",
       "      <td>25.0</td>\n",
       "      <td>NaN</td>\n",
       "      <td>0.0</td>\n",
       "      <td>1.0</td>\n",
       "      <td>0.0</td>\n",
       "      <td>0.0</td>\n",
       "      <td>35127231</td>\n",
       "      <td>3</td>\n",
       "      <td>3515</td>\n",
       "      <td>35061</td>\n",
       "      <td>35</td>\n",
       "      <td>3550308</td>\n",
       "      <td>355030891</td>\n",
       "      <td>4</td>\n",
       "      <td>1</td>\n",
       "      <td>4.0</td>\n",
       "      <td>0.0</td>\n",
       "      <td>NaN</td>\n",
       "      <td>1.0</td>\n",
       "      <td>0.0</td>\n",
       "      <td>0.0</td>\n",
       "      <td>0.0</td>\n",
       "      <td>0.0</td>\n",
       "      <td>0.0</td>\n",
       "      <td>0.0</td>\n",
       "      <td>1</td>\n",
       "      <td>0</td>\n",
       "      <td>0</td>\n",
       "    </tr>\n",
       "    <tr>\n",
       "      <th>4</th>\n",
       "      <td>2020</td>\n",
       "      <td>000010AFF43652695ED86DBBB3D09E4F</td>\n",
       "      <td>5</td>\n",
       "      <td>1987</td>\n",
       "      <td>33</td>\n",
       "      <td>33</td>\n",
       "      <td>1</td>\n",
       "      <td>1</td>\n",
       "      <td>1</td>\n",
       "      <td>76</td>\n",
       "      <td>35.0</td>\n",
       "      <td>3550308.0</td>\n",
       "      <td>NaN</td>\n",
       "      <td>NaN</td>\n",
       "      <td>1.0</td>\n",
       "      <td>9</td>\n",
       "      <td>0</td>\n",
       "      <td>NaN</td>\n",
       "      <td>NaN</td>\n",
       "      <td>NaN</td>\n",
       "      <td>NaN</td>\n",
       "      <td>NaN</td>\n",
       "      <td>NaN</td>\n",
       "      <td>NaN</td>\n",
       "      <td>NaN</td>\n",
       "      <td>NaN</td>\n",
       "      <td>NaN</td>\n",
       "      <td>4</td>\n",
       "      <td>NaN</td>\n",
       "      <td>1.0</td>\n",
       "      <td>0.0</td>\n",
       "      <td>0114M011</td>\n",
       "      <td>1</td>\n",
       "      <td>2015.0</td>\n",
       "      <td>2.0</td>\n",
       "      <td>316.0</td>\n",
       "      <td>NaN</td>\n",
       "      <td>NaN</td>\n",
       "      <td>NaN</td>\n",
       "      <td>0</td>\n",
       "      <td>NaN</td>\n",
       "      <td>NaN</td>\n",
       "      <td>NaN</td>\n",
       "      <td>NaN</td>\n",
       "      <td>NaN</td>\n",
       "      <td>NaN</td>\n",
       "      <td>0</td>\n",
       "      <td>NaN</td>\n",
       "      <td>NaN</td>\n",
       "      <td>NaN</td>\n",
       "      <td>0</td>\n",
       "      <td>NaN</td>\n",
       "      <td>NaN</td>\n",
       "      <td>NaN</td>\n",
       "      <td>0.0</td>\n",
       "      <td>0.0</td>\n",
       "      <td>0.0</td>\n",
       "      <td>1.0</td>\n",
       "      <td>0</td>\n",
       "      <td>0</td>\n",
       "      <td>0</td>\n",
       "      <td>0</td>\n",
       "      <td>0</td>\n",
       "      <td>0</td>\n",
       "      <td>0</td>\n",
       "      <td>0</td>\n",
       "      <td>0</td>\n",
       "      <td>0</td>\n",
       "      <td>0</td>\n",
       "      <td>0</td>\n",
       "      <td>0</td>\n",
       "      <td>0</td>\n",
       "      <td>0</td>\n",
       "      <td>0</td>\n",
       "      <td>1</td>\n",
       "      <td>21282705</td>\n",
       "      <td>1</td>\n",
       "      <td>NaN</td>\n",
       "      <td>0.0</td>\n",
       "      <td>0.0</td>\n",
       "      <td>0.0</td>\n",
       "      <td>0.0</td>\n",
       "      <td>0.0</td>\n",
       "      <td>0.0</td>\n",
       "      <td>0.0</td>\n",
       "      <td>0.0</td>\n",
       "      <td>0.0</td>\n",
       "      <td>0.0</td>\n",
       "      <td>1.0</td>\n",
       "      <td>NaN</td>\n",
       "      <td>0.0</td>\n",
       "      <td>0.0</td>\n",
       "      <td>0.0</td>\n",
       "      <td>0.0</td>\n",
       "      <td>0.0</td>\n",
       "      <td>0.0</td>\n",
       "      <td>0.0</td>\n",
       "      <td>NaN</td>\n",
       "      <td>0.0</td>\n",
       "      <td>0.0</td>\n",
       "      <td>0.0</td>\n",
       "      <td>NaN</td>\n",
       "      <td>NaN</td>\n",
       "      <td>NaN</td>\n",
       "      <td>0.0</td>\n",
       "      <td>1</td>\n",
       "      <td>0.0</td>\n",
       "      <td>1</td>\n",
       "      <td>27.0</td>\n",
       "      <td>NaN</td>\n",
       "      <td>0.0</td>\n",
       "      <td>1.0</td>\n",
       "      <td>0.0</td>\n",
       "      <td>0.0</td>\n",
       "      <td>35127231</td>\n",
       "      <td>3</td>\n",
       "      <td>3515</td>\n",
       "      <td>35061</td>\n",
       "      <td>35</td>\n",
       "      <td>3550308</td>\n",
       "      <td>355030891</td>\n",
       "      <td>4</td>\n",
       "      <td>1</td>\n",
       "      <td>4.0</td>\n",
       "      <td>0.0</td>\n",
       "      <td>NaN</td>\n",
       "      <td>1.0</td>\n",
       "      <td>0.0</td>\n",
       "      <td>0.0</td>\n",
       "      <td>0.0</td>\n",
       "      <td>0.0</td>\n",
       "      <td>0.0</td>\n",
       "      <td>0.0</td>\n",
       "      <td>1</td>\n",
       "      <td>0</td>\n",
       "      <td>0</td>\n",
       "    </tr>\n",
       "  </tbody>\n",
       "</table>\n",
       "</div>"
      ],
      "text/plain": [
       "   NU_ANO_CENSO                        ID_DOCENTE  NU_MES  NU_ANO  \\\n",
       "0          2020  000010AFF43652695ED86DBBB3D09E4F       5    1987   \n",
       "1          2020  000010AFF43652695ED86DBBB3D09E4F       5    1987   \n",
       "2          2020  000010AFF43652695ED86DBBB3D09E4F       5    1987   \n",
       "3          2020  000010AFF43652695ED86DBBB3D09E4F       5    1987   \n",
       "4          2020  000010AFF43652695ED86DBBB3D09E4F       5    1987   \n",
       "\n",
       "   NU_IDADE_REFERENCIA  NU_IDADE  TP_SEXO  TP_COR_RACA  TP_NACIONALIDADE  \\\n",
       "0                   33        33        1            1                 1   \n",
       "1                   33        33        1            1                 1   \n",
       "2                   33        33        1            1                 1   \n",
       "3                   33        33        1            1                 1   \n",
       "4                   33        33        1            1                 1   \n",
       "\n",
       "   CO_PAIS_ORIGEM  CO_UF_NASC  CO_MUNICIPIO_NASC  CO_UF_END  CO_MUNICIPIO_END  \\\n",
       "0              76        35.0          3550308.0        NaN               NaN   \n",
       "1              76        35.0          3550308.0        NaN               NaN   \n",
       "2              76        35.0          3550308.0        NaN               NaN   \n",
       "3              76        35.0          3550308.0        NaN               NaN   \n",
       "4              76        35.0          3550308.0        NaN               NaN   \n",
       "\n",
       "   TP_ZONA_RESIDENCIAL  TP_LOCAL_RESID_DIFERENCIADA  IN_NECESSIDADE_ESPECIAL  \\\n",
       "0                  1.0                            9                        0   \n",
       "1                  1.0                            9                        0   \n",
       "2                  1.0                            9                        0   \n",
       "3                  1.0                            9                        0   \n",
       "4                  1.0                            9                        0   \n",
       "\n",
       "   IN_BAIXA_VISAO  IN_CEGUEIRA  IN_DEF_AUDITIVA  IN_DEF_FISICA  \\\n",
       "0             NaN          NaN              NaN            NaN   \n",
       "1             NaN          NaN              NaN            NaN   \n",
       "2             NaN          NaN              NaN            NaN   \n",
       "3             NaN          NaN              NaN            NaN   \n",
       "4             NaN          NaN              NaN            NaN   \n",
       "\n",
       "   IN_DEF_INTELECTUAL  IN_SURDEZ  IN_SURDOCEGUEIRA  IN_DEF_MULTIPLA  \\\n",
       "0                 NaN        NaN               NaN              NaN   \n",
       "1                 NaN        NaN               NaN              NaN   \n",
       "2                 NaN        NaN               NaN              NaN   \n",
       "3                 NaN        NaN               NaN              NaN   \n",
       "4                 NaN        NaN               NaN              NaN   \n",
       "\n",
       "   IN_AUTISMO  IN_SUPERDOTACAO  TP_ESCOLARIDADE  TP_ENSINO_MEDIO  \\\n",
       "0         NaN              NaN                4              NaN   \n",
       "1         NaN              NaN                4              NaN   \n",
       "2         NaN              NaN                4              NaN   \n",
       "3         NaN              NaN                4              NaN   \n",
       "4         NaN              NaN                4              NaN   \n",
       "\n",
       "   TP_SITUACAO_CURSO_1  CO_AREA_CURSO_1 CO_CURSO_1  IN_LICENCIATURA_1  \\\n",
       "0                  1.0              0.0   0114M011                  1   \n",
       "1                  1.0              0.0   0114M011                  1   \n",
       "2                  1.0              0.0   0114M011                  1   \n",
       "3                  1.0              0.0   0114M011                  1   \n",
       "4                  1.0              0.0   0114M011                  1   \n",
       "\n",
       "   NU_ANO_CONCLUSAO_1  TP_TIPO_IES_1  CO_IES_1  TP_SITUACAO_CURSO_2  \\\n",
       "0              2015.0            2.0     316.0                  NaN   \n",
       "1              2015.0            2.0     316.0                  NaN   \n",
       "2              2015.0            2.0     316.0                  NaN   \n",
       "3              2015.0            2.0     316.0                  NaN   \n",
       "4              2015.0            2.0     316.0                  NaN   \n",
       "\n",
       "   CO_AREA_CURSO_2 CO_CURSO_2  IN_LICENCIATURA_2  NU_ANO_CONCLUSAO_2  \\\n",
       "0              NaN        NaN                  0                 NaN   \n",
       "1              NaN        NaN                  0                 NaN   \n",
       "2              NaN        NaN                  0                 NaN   \n",
       "3              NaN        NaN                  0                 NaN   \n",
       "4              NaN        NaN                  0                 NaN   \n",
       "\n",
       "   TP_TIPO_IES_2  CO_IES_2  TP_SITUACAO_CURSO_3  CO_AREA_CURSO_3 CO_CURSO_3  \\\n",
       "0            NaN       NaN                  NaN              NaN        NaN   \n",
       "1            NaN       NaN                  NaN              NaN        NaN   \n",
       "2            NaN       NaN                  NaN              NaN        NaN   \n",
       "3            NaN       NaN                  NaN              NaN        NaN   \n",
       "4            NaN       NaN                  NaN              NaN        NaN   \n",
       "\n",
       "   IN_LICENCIATURA_3  NU_ANO_CONCLUSAO_3  TP_TIPO_IES_3  CO_IES_3  \\\n",
       "0                  0                 NaN            NaN       NaN   \n",
       "1                  0                 NaN            NaN       NaN   \n",
       "2                  0                 NaN            NaN       NaN   \n",
       "3                  0                 NaN            NaN       NaN   \n",
       "4                  0                 NaN            NaN       NaN   \n",
       "\n",
       "   IN_COMPLEMENTACAO_PEDAGOGICA  CO_AREA_COMPL_PEDAGOGICA_1  \\\n",
       "0                             0                         NaN   \n",
       "1                             0                         NaN   \n",
       "2                             0                         NaN   \n",
       "3                             0                         NaN   \n",
       "4                             0                         NaN   \n",
       "\n",
       "   CO_AREA_COMPL_PEDAGOGICA_2  CO_AREA_COMPL_PEDAGOGICA_3  IN_ESPECIALIZACAO  \\\n",
       "0                         NaN                         NaN                0.0   \n",
       "1                         NaN                         NaN                0.0   \n",
       "2                         NaN                         NaN                0.0   \n",
       "3                         NaN                         NaN                0.0   \n",
       "4                         NaN                         NaN                0.0   \n",
       "\n",
       "   IN_MESTRADO  IN_DOUTORADO  IN_POS_NENHUM  IN_ESPECIFICO_CRECHE  \\\n",
       "0          0.0           0.0            1.0                     0   \n",
       "1          0.0           0.0            1.0                     0   \n",
       "2          0.0           0.0            1.0                     0   \n",
       "3          0.0           0.0            1.0                     0   \n",
       "4          0.0           0.0            1.0                     0   \n",
       "\n",
       "   IN_ESPECIFICO_PRE_ESCOLA  IN_ESPECIFICO_ANOS_INICIAIS  \\\n",
       "0                         0                            0   \n",
       "1                         0                            0   \n",
       "2                         0                            0   \n",
       "3                         0                            0   \n",
       "4                         0                            0   \n",
       "\n",
       "   IN_ESPECIFICO_ANOS_FINAIS  IN_ESPECIFICO_ENS_MEDIO  IN_ESPECIFICO_EJA  \\\n",
       "0                          0                        0                  0   \n",
       "1                          0                        0                  0   \n",
       "2                          0                        0                  0   \n",
       "3                          0                        0                  0   \n",
       "4                          0                        0                  0   \n",
       "\n",
       "   IN_ESPECIFICO_ED_ESPECIAL  IN_ESPECIFICO_ED_INDIGENA  IN_ESPECIFICO_CAMPO  \\\n",
       "0                          0                          0                    0   \n",
       "1                          0                          0                    0   \n",
       "2                          0                          0                    0   \n",
       "3                          0                          0                    0   \n",
       "4                          0                          0                    0   \n",
       "\n",
       "   IN_ESPECIFICO_AMBIENTAL  IN_ESPECIFICO_DIR_HUMANOS  \\\n",
       "0                        0                          0   \n",
       "1                        0                          0   \n",
       "2                        0                          0   \n",
       "3                        0                          0   \n",
       "4                        0                          0   \n",
       "\n",
       "   IN_ESPECIFICO_DIV_SEXUAL  IN_ESPECIFICO_DIR_ADOLESC  IN_ESPECIFICO_AFRO  \\\n",
       "0                         0                          0                   0   \n",
       "1                         0                          0                   0   \n",
       "2                         0                          0                   0   \n",
       "3                         0                          0                   0   \n",
       "4                         0                          0                   0   \n",
       "\n",
       "   IN_ESPECIFICO_GESTAO  IN_ESPECIFICO_OUTROS  IN_ESPECIFICO_NENHUM  ID_TURMA  \\\n",
       "0                     0                     0                     1  21282104   \n",
       "1                     0                     0                     1  21282105   \n",
       "2                     0                     0                     1  21282106   \n",
       "3                     0                     0                     1  21282704   \n",
       "4                     0                     0                     1  21282705   \n",
       "\n",
       "   TP_TIPO_DOCENTE  TP_TIPO_CONTRATACAO  IN_DISC_LINGUA_PORTUGUESA  \\\n",
       "0                1                  NaN                        0.0   \n",
       "1                1                  NaN                        0.0   \n",
       "2                1                  NaN                        0.0   \n",
       "3                1                  NaN                        0.0   \n",
       "4                1                  NaN                        0.0   \n",
       "\n",
       "   IN_DISC_EDUCACAO_FISICA  IN_DISC_ARTES  IN_DISC_LINGUA_INGLES  \\\n",
       "0                      0.0            0.0                    0.0   \n",
       "1                      0.0            0.0                    0.0   \n",
       "2                      0.0            0.0                    0.0   \n",
       "3                      0.0            0.0                    0.0   \n",
       "4                      0.0            0.0                    0.0   \n",
       "\n",
       "   IN_DISC_LINGUA_ESPANHOL  IN_DISC_LINGUA_FRANCES  IN_DISC_LINGUA_OUTRA  \\\n",
       "0                      0.0                     0.0                   0.0   \n",
       "1                      0.0                     0.0                   0.0   \n",
       "2                      0.0                     0.0                   0.0   \n",
       "3                      0.0                     0.0                   0.0   \n",
       "4                      0.0                     0.0                   0.0   \n",
       "\n",
       "   IN_DISC_LIBRAS  IN_DISC_LINGUA_INDIGENA  IN_DISC_PORT_SEGUNDA_LINGUA  \\\n",
       "0             0.0                      0.0                          0.0   \n",
       "1             0.0                      0.0                          0.0   \n",
       "2             0.0                      0.0                          0.0   \n",
       "3             0.0                      0.0                          0.0   \n",
       "4             0.0                      0.0                          0.0   \n",
       "\n",
       "   IN_DISC_MATEMATICA  IN_DISC_CIENCIAS  IN_DISC_FISICA  IN_DISC_QUIMICA  \\\n",
       "0                 1.0               NaN             0.0              0.0   \n",
       "1                 1.0               NaN             0.0              0.0   \n",
       "2                 1.0               NaN             0.0              0.0   \n",
       "3                 1.0               NaN             0.0              0.0   \n",
       "4                 1.0               NaN             0.0              0.0   \n",
       "\n",
       "   IN_DISC_BIOLOGIA  IN_DISC_HISTORIA  IN_DISC_GEOGRAFIA  IN_DISC_SOCIOLOGIA  \\\n",
       "0               0.0               0.0                0.0                 0.0   \n",
       "1               0.0               0.0                0.0                 0.0   \n",
       "2               0.0               0.0                0.0                 0.0   \n",
       "3               0.0               0.0                0.0                 0.0   \n",
       "4               0.0               0.0                0.0                 0.0   \n",
       "\n",
       "   IN_DISC_FILOSOFIA  IN_DISC_ESTUDOS_SOCIAIS  IN_DISC_EST_SOCIAIS_SOCIOLOGIA  \\\n",
       "0                0.0                      NaN                             0.0   \n",
       "1                0.0                      NaN                             0.0   \n",
       "2                0.0                      NaN                             0.0   \n",
       "3                0.0                      NaN                             0.0   \n",
       "4                0.0                      NaN                             0.0   \n",
       "\n",
       "   IN_DISC_INFORMATICA_COMPUTACAO  IN_DISC_ENSINO_RELIGIOSO  \\\n",
       "0                             0.0                       0.0   \n",
       "1                             0.0                       0.0   \n",
       "2                             0.0                       0.0   \n",
       "3                             0.0                       0.0   \n",
       "4                             0.0                       0.0   \n",
       "\n",
       "   IN_DISC_PROFISSIONALIZANTE  IN_DISC_ESTAGIO_SUPERVISIONADO  \\\n",
       "0                         NaN                             NaN   \n",
       "1                         NaN                             NaN   \n",
       "2                         NaN                             NaN   \n",
       "3                         NaN                             NaN   \n",
       "4                         NaN                             NaN   \n",
       "\n",
       "   IN_DISC_PEDAGOGICAS  IN_DISC_OUTRAS  TP_TIPO_ATENDIMENTO_TURMA  \\\n",
       "0                  NaN             0.0                          1   \n",
       "1                  NaN             0.0                          1   \n",
       "2                  NaN             0.0                          1   \n",
       "3                  NaN             0.0                          1   \n",
       "4                  NaN             0.0                          1   \n",
       "\n",
       "   TP_TIPO_LOCAL_TURMA  TP_MEDIACAO_DIDATICO_PEDAGO  TP_ETAPA_ENSINO  \\\n",
       "0                  0.0                            1             25.0   \n",
       "1                  0.0                            1             26.0   \n",
       "2                  0.0                            1             26.0   \n",
       "3                  0.0                            1             25.0   \n",
       "4                  0.0                            1             27.0   \n",
       "\n",
       "   CO_CURSO_EDUC_PROFISSIONAL  IN_ESPECIAL_EXCLUSIVA  IN_REGULAR  IN_EJA  \\\n",
       "0                         NaN                    0.0         1.0     0.0   \n",
       "1                         NaN                    0.0         1.0     0.0   \n",
       "2                         NaN                    0.0         1.0     0.0   \n",
       "3                         NaN                    0.0         1.0     0.0   \n",
       "4                         NaN                    0.0         1.0     0.0   \n",
       "\n",
       "   IN_PROFISSIONALIZANTE  CO_ENTIDADE  CO_REGIAO  CO_MESORREGIAO  \\\n",
       "0                    0.0     35127231          3            3515   \n",
       "1                    0.0     35127231          3            3515   \n",
       "2                    0.0     35127231          3            3515   \n",
       "3                    0.0     35127231          3            3515   \n",
       "4                    0.0     35127231          3            3515   \n",
       "\n",
       "   CO_MICRORREGIAO  CO_UF  CO_MUNICIPIO  CO_DISTRITO  TP_DEPENDENCIA  \\\n",
       "0            35061     35       3550308    355030891               4   \n",
       "1            35061     35       3550308    355030891               4   \n",
       "2            35061     35       3550308    355030891               4   \n",
       "3            35061     35       3550308    355030891               4   \n",
       "4            35061     35       3550308    355030891               4   \n",
       "\n",
       "   TP_LOCALIZACAO  TP_CATEGORIA_ESCOLA_PRIVADA  IN_CONVENIADA_PP  \\\n",
       "0               1                          4.0               0.0   \n",
       "1               1                          4.0               0.0   \n",
       "2               1                          4.0               0.0   \n",
       "3               1                          4.0               0.0   \n",
       "4               1                          4.0               0.0   \n",
       "\n",
       "   TP_CONVENIO_PODER_PUBLICO  IN_MANT_ESCOLA_PRIVADA_EMP  \\\n",
       "0                        NaN                         1.0   \n",
       "1                        NaN                         1.0   \n",
       "2                        NaN                         1.0   \n",
       "3                        NaN                         1.0   \n",
       "4                        NaN                         1.0   \n",
       "\n",
       "   IN_MANT_ESCOLA_PRIVADA_ONG  IN_MANT_ESCOLA_PRIVADA_OSCIP  \\\n",
       "0                         0.0                           0.0   \n",
       "1                         0.0                           0.0   \n",
       "2                         0.0                           0.0   \n",
       "3                         0.0                           0.0   \n",
       "4                         0.0                           0.0   \n",
       "\n",
       "   IN_MANT_ESCOLA_PRIV_ONG_OSCIP  IN_MANT_ESCOLA_PRIVADA_SIND  \\\n",
       "0                            0.0                          0.0   \n",
       "1                            0.0                          0.0   \n",
       "2                            0.0                          0.0   \n",
       "3                            0.0                          0.0   \n",
       "4                            0.0                          0.0   \n",
       "\n",
       "   IN_MANT_ESCOLA_PRIVADA_SIST_S  IN_MANT_ESCOLA_PRIVADA_S_FINS  \\\n",
       "0                            0.0                            0.0   \n",
       "1                            0.0                            0.0   \n",
       "2                            0.0                            0.0   \n",
       "3                            0.0                            0.0   \n",
       "4                            0.0                            0.0   \n",
       "\n",
       "   TP_REGULAMENTACAO  TP_LOCALIZACAO_DIFERENCIADA  IN_EDUCACAO_INDIGENA  \n",
       "0                  1                            0                     0  \n",
       "1                  1                            0                     0  \n",
       "2                  1                            0                     0  \n",
       "3                  1                            0                     0  \n",
       "4                  1                            0                     0  "
      ]
     },
     "execution_count": 458,
     "metadata": {},
     "output_type": "execute_result"
    }
   ],
   "source": [
    "#a primeira linha abaixo faz com que todas as colunas sejam mostradas, e a segunda apresenta as primeiras 5 linhas\n",
    "\n",
    "pd.set_option(\"display.max_columns\", None)  \n",
    "data_doc.head(5)"
   ]
  },
  {
   "cell_type": "code",
   "execution_count": 459,
   "id": "c85caf41",
   "metadata": {},
   "outputs": [
    {
     "data": {
      "text/plain": [
       "Index(['NU_IDADE_REFERENCIA', 'TP_SEXO', 'TP_COR_RACA', 'TP_NACIONALIDADE',\n",
       "       'IN_NECESSIDADE_ESPECIAL', 'TP_ESCOLARIDADE', 'IN_LICENCIATURA_1',\n",
       "       'IN_ESPECIALIZACAO', 'IN_MESTRADO', 'IN_DOUTORADO', 'IN_POS_NENHUM',\n",
       "       'IN_DISC_MATEMATICA', 'IN_REGULAR', 'IN_ESPECIFICO_ANOS_FINAIS',\n",
       "       'IN_ESPECIFICO_ENS_MEDIO', 'IN_ESPECIFICO_EJA',\n",
       "       'IN_ESPECIFICO_ED_ESPECIAL', 'IN_ESPECIFICO_ED_INDIGENA',\n",
       "       'IN_ESPECIFICO_CAMPO', 'IN_ESPECIFICO_AMBIENTAL', 'TP_TIPO_DOCENTE',\n",
       "       'TP_TIPO_CONTRATACAO', 'TP_CATEGORIA_ESCOLA_PRIVADA',\n",
       "       'IN_CONVENIADA_PP', 'TP_CONVENIO_PODER_PUBLICO',\n",
       "       'IN_MANT_ESCOLA_PRIVADA_EMP', 'IN_MANT_ESCOLA_PRIVADA_ONG',\n",
       "       'IN_MANT_ESCOLA_PRIVADA_OSCIP', 'IN_MANT_ESCOLA_PRIV_ONG_OSCIP',\n",
       "       'IN_MANT_ESCOLA_PRIVADA_SIND', 'IN_MANT_ESCOLA_PRIVADA_SIST_S',\n",
       "       'IN_MANT_ESCOLA_PRIVADA_S_FINS', 'TP_REGULAMENTACAO',\n",
       "       'TP_LOCALIZACAO_DIFERENCIADA'],\n",
       "      dtype='object')"
      ]
     },
     "execution_count": 459,
     "metadata": {},
     "output_type": "execute_result"
    }
   ],
   "source": [
    "## Eliminando algumas colunas que não fazem parte das regras que serão aplicadas no modelo de dados\n",
    "\n",
    "df = data_doc[[\n",
    "        'NU_IDADE_REFERENCIA',\n",
    "        'TP_SEXO',\n",
    "        'TP_COR_RACA',\n",
    "        'TP_NACIONALIDADE',\n",
    "        'IN_NECESSIDADE_ESPECIAL', \n",
    "        'TP_ESCOLARIDADE',\n",
    "        'IN_LICENCIATURA_1',\n",
    "        'IN_ESPECIALIZACAO',\n",
    "        'IN_MESTRADO',\n",
    "        'IN_DOUTORADO',\n",
    "        'IN_POS_NENHUM',\n",
    "        'IN_DISC_MATEMATICA',\n",
    "        'IN_REGULAR',\n",
    "        'IN_ESPECIFICO_ANOS_FINAIS',\n",
    "        'IN_ESPECIFICO_ENS_MEDIO',\n",
    "        'IN_ESPECIFICO_EJA',\n",
    "        'IN_ESPECIFICO_ED_ESPECIAL',\n",
    "        'IN_ESPECIFICO_ED_INDIGENA',\n",
    "        'IN_ESPECIFICO_CAMPO',\n",
    "        'IN_ESPECIFICO_AMBIENTAL',\n",
    "        'TP_TIPO_DOCENTE',\n",
    "        'TP_TIPO_CONTRATACAO',\n",
    "        'TP_CATEGORIA_ESCOLA_PRIVADA',\n",
    "        'IN_CONVENIADA_PP',\n",
    "        'TP_CONVENIO_PODER_PUBLICO',\n",
    "        'IN_MANT_ESCOLA_PRIVADA_EMP',\n",
    "        'IN_MANT_ESCOLA_PRIVADA_ONG',\n",
    "        'IN_MANT_ESCOLA_PRIVADA_OSCIP',\n",
    "        'IN_MANT_ESCOLA_PRIV_ONG_OSCIP',\n",
    "        'IN_MANT_ESCOLA_PRIVADA_SIND',\n",
    "        'IN_MANT_ESCOLA_PRIVADA_SIST_S',\n",
    "        'IN_MANT_ESCOLA_PRIVADA_S_FINS',\n",
    "        'TP_REGULAMENTACAO',\n",
    "        'TP_LOCALIZACAO_DIFERENCIADA',\n",
    "       ]]\n",
    "\n",
    "df.columns"
   ]
  },
  {
   "cell_type": "code",
   "execution_count": 460,
   "id": "77300d1c",
   "metadata": {},
   "outputs": [],
   "source": [
    "## Afunilando features para se adequar a proposta inicial, eliminando principalmente outras matérias\n",
    "\n",
    "df = df[['NU_IDADE_REFERENCIA', 'TP_SEXO', 'TP_ESCOLARIDADE', 'TP_COR_RACA',\n",
    "       'IN_LICENCIATURA_1', 'IN_ESPECIALIZACAO', 'IN_MESTRADO', 'IN_DISC_MATEMATICA', 'IN_ESPECIFICO_ANOS_FINAIS',\n",
    "       'IN_ESPECIFICO_ENS_MEDIO', 'IN_ESPECIFICO_EJA',\n",
    "       'IN_ESPECIFICO_ED_ESPECIAL', 'TP_TIPO_DOCENTE',\n",
    "       'TP_TIPO_CONTRATACAO',        'TP_REGULAMENTACAO']]"
   ]
  },
  {
   "cell_type": "code",
   "execution_count": 461,
   "id": "ca4341f1",
   "metadata": {},
   "outputs": [
    {
     "data": {
      "text/html": [
       "<div>\n",
       "<style scoped>\n",
       "    .dataframe tbody tr th:only-of-type {\n",
       "        vertical-align: middle;\n",
       "    }\n",
       "\n",
       "    .dataframe tbody tr th {\n",
       "        vertical-align: top;\n",
       "    }\n",
       "\n",
       "    .dataframe thead th {\n",
       "        text-align: right;\n",
       "    }\n",
       "</style>\n",
       "<table border=\"1\" class=\"dataframe\">\n",
       "  <thead>\n",
       "    <tr style=\"text-align: right;\">\n",
       "      <th></th>\n",
       "      <th>Idade</th>\n",
       "      <th>Sexo</th>\n",
       "      <th>Grau Escolaridade</th>\n",
       "      <th>Etnia</th>\n",
       "      <th>Licenciatura</th>\n",
       "      <th>Com espec.</th>\n",
       "      <th>Com mestrado</th>\n",
       "      <th>Matemática</th>\n",
       "      <th>Específico: Anos Finais</th>\n",
       "      <th>Específico: Ensino Médio</th>\n",
       "      <th>Específico: EJA</th>\n",
       "      <th>Específico: Educação Especial</th>\n",
       "      <th>Tipo de Docência</th>\n",
       "      <th>Tipo de Contratação</th>\n",
       "      <th>TP_REGULAMENTACAO</th>\n",
       "    </tr>\n",
       "  </thead>\n",
       "  <tbody>\n",
       "    <tr>\n",
       "      <th>0</th>\n",
       "      <td>33</td>\n",
       "      <td>1</td>\n",
       "      <td>4</td>\n",
       "      <td>1</td>\n",
       "      <td>1</td>\n",
       "      <td>0.0</td>\n",
       "      <td>0.0</td>\n",
       "      <td>1.0</td>\n",
       "      <td>0</td>\n",
       "      <td>0</td>\n",
       "      <td>0</td>\n",
       "      <td>0</td>\n",
       "      <td>1</td>\n",
       "      <td>NaN</td>\n",
       "      <td>1</td>\n",
       "    </tr>\n",
       "    <tr>\n",
       "      <th>1</th>\n",
       "      <td>33</td>\n",
       "      <td>1</td>\n",
       "      <td>4</td>\n",
       "      <td>1</td>\n",
       "      <td>1</td>\n",
       "      <td>0.0</td>\n",
       "      <td>0.0</td>\n",
       "      <td>1.0</td>\n",
       "      <td>0</td>\n",
       "      <td>0</td>\n",
       "      <td>0</td>\n",
       "      <td>0</td>\n",
       "      <td>1</td>\n",
       "      <td>NaN</td>\n",
       "      <td>1</td>\n",
       "    </tr>\n",
       "    <tr>\n",
       "      <th>2</th>\n",
       "      <td>33</td>\n",
       "      <td>1</td>\n",
       "      <td>4</td>\n",
       "      <td>1</td>\n",
       "      <td>1</td>\n",
       "      <td>0.0</td>\n",
       "      <td>0.0</td>\n",
       "      <td>1.0</td>\n",
       "      <td>0</td>\n",
       "      <td>0</td>\n",
       "      <td>0</td>\n",
       "      <td>0</td>\n",
       "      <td>1</td>\n",
       "      <td>NaN</td>\n",
       "      <td>1</td>\n",
       "    </tr>\n",
       "    <tr>\n",
       "      <th>3</th>\n",
       "      <td>33</td>\n",
       "      <td>1</td>\n",
       "      <td>4</td>\n",
       "      <td>1</td>\n",
       "      <td>1</td>\n",
       "      <td>0.0</td>\n",
       "      <td>0.0</td>\n",
       "      <td>1.0</td>\n",
       "      <td>0</td>\n",
       "      <td>0</td>\n",
       "      <td>0</td>\n",
       "      <td>0</td>\n",
       "      <td>1</td>\n",
       "      <td>NaN</td>\n",
       "      <td>1</td>\n",
       "    </tr>\n",
       "    <tr>\n",
       "      <th>4</th>\n",
       "      <td>33</td>\n",
       "      <td>1</td>\n",
       "      <td>4</td>\n",
       "      <td>1</td>\n",
       "      <td>1</td>\n",
       "      <td>0.0</td>\n",
       "      <td>0.0</td>\n",
       "      <td>1.0</td>\n",
       "      <td>0</td>\n",
       "      <td>0</td>\n",
       "      <td>0</td>\n",
       "      <td>0</td>\n",
       "      <td>1</td>\n",
       "      <td>NaN</td>\n",
       "      <td>1</td>\n",
       "    </tr>\n",
       "    <tr>\n",
       "      <th>...</th>\n",
       "      <td>...</td>\n",
       "      <td>...</td>\n",
       "      <td>...</td>\n",
       "      <td>...</td>\n",
       "      <td>...</td>\n",
       "      <td>...</td>\n",
       "      <td>...</td>\n",
       "      <td>...</td>\n",
       "      <td>...</td>\n",
       "      <td>...</td>\n",
       "      <td>...</td>\n",
       "      <td>...</td>\n",
       "      <td>...</td>\n",
       "      <td>...</td>\n",
       "      <td>...</td>\n",
       "    </tr>\n",
       "    <tr>\n",
       "      <th>499995</th>\n",
       "      <td>62</td>\n",
       "      <td>2</td>\n",
       "      <td>4</td>\n",
       "      <td>1</td>\n",
       "      <td>1</td>\n",
       "      <td>0.0</td>\n",
       "      <td>0.0</td>\n",
       "      <td>1.0</td>\n",
       "      <td>0</td>\n",
       "      <td>0</td>\n",
       "      <td>0</td>\n",
       "      <td>0</td>\n",
       "      <td>1</td>\n",
       "      <td>NaN</td>\n",
       "      <td>1</td>\n",
       "    </tr>\n",
       "    <tr>\n",
       "      <th>499996</th>\n",
       "      <td>32</td>\n",
       "      <td>2</td>\n",
       "      <td>4</td>\n",
       "      <td>1</td>\n",
       "      <td>1</td>\n",
       "      <td>0.0</td>\n",
       "      <td>0.0</td>\n",
       "      <td>NaN</td>\n",
       "      <td>0</td>\n",
       "      <td>0</td>\n",
       "      <td>0</td>\n",
       "      <td>0</td>\n",
       "      <td>1</td>\n",
       "      <td>2.0</td>\n",
       "      <td>1</td>\n",
       "    </tr>\n",
       "    <tr>\n",
       "      <th>499997</th>\n",
       "      <td>46</td>\n",
       "      <td>2</td>\n",
       "      <td>3</td>\n",
       "      <td>2</td>\n",
       "      <td>0</td>\n",
       "      <td>NaN</td>\n",
       "      <td>NaN</td>\n",
       "      <td>1.0</td>\n",
       "      <td>0</td>\n",
       "      <td>0</td>\n",
       "      <td>0</td>\n",
       "      <td>0</td>\n",
       "      <td>1</td>\n",
       "      <td>1.0</td>\n",
       "      <td>1</td>\n",
       "    </tr>\n",
       "    <tr>\n",
       "      <th>499998</th>\n",
       "      <td>46</td>\n",
       "      <td>2</td>\n",
       "      <td>3</td>\n",
       "      <td>2</td>\n",
       "      <td>0</td>\n",
       "      <td>NaN</td>\n",
       "      <td>NaN</td>\n",
       "      <td>1.0</td>\n",
       "      <td>0</td>\n",
       "      <td>0</td>\n",
       "      <td>0</td>\n",
       "      <td>0</td>\n",
       "      <td>1</td>\n",
       "      <td>1.0</td>\n",
       "      <td>1</td>\n",
       "    </tr>\n",
       "    <tr>\n",
       "      <th>499999</th>\n",
       "      <td>50</td>\n",
       "      <td>2</td>\n",
       "      <td>4</td>\n",
       "      <td>1</td>\n",
       "      <td>0</td>\n",
       "      <td>0.0</td>\n",
       "      <td>0.0</td>\n",
       "      <td>NaN</td>\n",
       "      <td>0</td>\n",
       "      <td>0</td>\n",
       "      <td>0</td>\n",
       "      <td>0</td>\n",
       "      <td>1</td>\n",
       "      <td>NaN</td>\n",
       "      <td>1</td>\n",
       "    </tr>\n",
       "  </tbody>\n",
       "</table>\n",
       "<p>500000 rows × 15 columns</p>\n",
       "</div>"
      ],
      "text/plain": [
       "        Idade  Sexo  Grau Escolaridade  Etnia  Licenciatura  Com espec.  \\\n",
       "0          33     1                  4      1             1         0.0   \n",
       "1          33     1                  4      1             1         0.0   \n",
       "2          33     1                  4      1             1         0.0   \n",
       "3          33     1                  4      1             1         0.0   \n",
       "4          33     1                  4      1             1         0.0   \n",
       "...       ...   ...                ...    ...           ...         ...   \n",
       "499995     62     2                  4      1             1         0.0   \n",
       "499996     32     2                  4      1             1         0.0   \n",
       "499997     46     2                  3      2             0         NaN   \n",
       "499998     46     2                  3      2             0         NaN   \n",
       "499999     50     2                  4      1             0         0.0   \n",
       "\n",
       "        Com mestrado  Matemática  Específico: Anos Finais  \\\n",
       "0                0.0         1.0                        0   \n",
       "1                0.0         1.0                        0   \n",
       "2                0.0         1.0                        0   \n",
       "3                0.0         1.0                        0   \n",
       "4                0.0         1.0                        0   \n",
       "...              ...         ...                      ...   \n",
       "499995           0.0         1.0                        0   \n",
       "499996           0.0         NaN                        0   \n",
       "499997           NaN         1.0                        0   \n",
       "499998           NaN         1.0                        0   \n",
       "499999           0.0         NaN                        0   \n",
       "\n",
       "        Específico: Ensino Médio  Específico: EJA  \\\n",
       "0                              0                0   \n",
       "1                              0                0   \n",
       "2                              0                0   \n",
       "3                              0                0   \n",
       "4                              0                0   \n",
       "...                          ...              ...   \n",
       "499995                         0                0   \n",
       "499996                         0                0   \n",
       "499997                         0                0   \n",
       "499998                         0                0   \n",
       "499999                         0                0   \n",
       "\n",
       "        Específico: Educação Especial  Tipo de Docência  Tipo de Contratação  \\\n",
       "0                                   0                 1                  NaN   \n",
       "1                                   0                 1                  NaN   \n",
       "2                                   0                 1                  NaN   \n",
       "3                                   0                 1                  NaN   \n",
       "4                                   0                 1                  NaN   \n",
       "...                               ...               ...                  ...   \n",
       "499995                              0                 1                  NaN   \n",
       "499996                              0                 1                  2.0   \n",
       "499997                              0                 1                  1.0   \n",
       "499998                              0                 1                  1.0   \n",
       "499999                              0                 1                  NaN   \n",
       "\n",
       "        TP_REGULAMENTACAO  \n",
       "0                       1  \n",
       "1                       1  \n",
       "2                       1  \n",
       "3                       1  \n",
       "4                       1  \n",
       "...                   ...  \n",
       "499995                  1  \n",
       "499996                  1  \n",
       "499997                  1  \n",
       "499998                  1  \n",
       "499999                  1  \n",
       "\n",
       "[500000 rows x 15 columns]"
      ]
     },
     "execution_count": 461,
     "metadata": {},
     "output_type": "execute_result"
    }
   ],
   "source": [
    "# Renomeando as colunas\n",
    "dados_1 = df.rename(\n",
    "    columns={\n",
    "        \"NU_IDADE_REFERENCIA\":\"Idade\", \n",
    "        \"TP_SEXO\":\"Sexo\", \n",
    "        \"TP_COR_RACA\":\"Etnia\", \n",
    "        \"TP_NACIONALIDADE\":\"Nacionalidade\",\n",
    "        \"IN_NECESSIDADE_ESPECIAL\": \"Nec. Especial\", \n",
    "        \"TP_ESCOLARIDADE\":\"Grau Escolaridade\",\n",
    "        \"IN_LICENCIATURA_1\":\"Licenciatura\", \n",
    "        \"IN_ESPECIALIZACAO\":\"Com espec.\", \n",
    "        \"IN_MESTRADO\":\"Com mestrado\", \n",
    "        \"TP_TIPO_DOCENTE\":\"Tipo de Docência\", \n",
    "        \"IN_DISC_MATEMATICA\":\"Matemática\", \n",
    "        'IN_ESPECIFICO_ANOS_FINAIS': 'Específico: Anos Finais',\n",
    "        'IN_ESPECIFICO_ENS_MEDIO': 'Específico: Ensino Médio', \n",
    "        'IN_ESPECIFICO_EJA': 'Específico: EJA',\n",
    "        'IN_ESPECIFICO_ED_ESPECIAL': 'Específico: Educação Especial', \n",
    "        'TP_TIPO_CONTRATACAO': 'Tipo de Contratação'\n",
    "        })\n",
    "dados_1"
   ]
  },
  {
   "cell_type": "code",
   "execution_count": 462,
   "id": "6d1da645",
   "metadata": {},
   "outputs": [
    {
     "data": {
      "text/html": [
       "<div>\n",
       "<style scoped>\n",
       "    .dataframe tbody tr th:only-of-type {\n",
       "        vertical-align: middle;\n",
       "    }\n",
       "\n",
       "    .dataframe tbody tr th {\n",
       "        vertical-align: top;\n",
       "    }\n",
       "\n",
       "    .dataframe thead th {\n",
       "        text-align: right;\n",
       "    }\n",
       "</style>\n",
       "<table border=\"1\" class=\"dataframe\">\n",
       "  <thead>\n",
       "    <tr style=\"text-align: right;\">\n",
       "      <th></th>\n",
       "      <th>NaN_Values</th>\n",
       "    </tr>\n",
       "  </thead>\n",
       "  <tbody>\n",
       "    <tr>\n",
       "      <th>Tipo de Contratação</th>\n",
       "      <td>144727</td>\n",
       "    </tr>\n",
       "    <tr>\n",
       "      <th>Matemática</th>\n",
       "      <td>84538</td>\n",
       "    </tr>\n",
       "    <tr>\n",
       "      <th>Com espec.</th>\n",
       "      <td>32380</td>\n",
       "    </tr>\n",
       "    <tr>\n",
       "      <th>Com mestrado</th>\n",
       "      <td>32380</td>\n",
       "    </tr>\n",
       "    <tr>\n",
       "      <th>Idade</th>\n",
       "      <td>0</td>\n",
       "    </tr>\n",
       "    <tr>\n",
       "      <th>Sexo</th>\n",
       "      <td>0</td>\n",
       "    </tr>\n",
       "    <tr>\n",
       "      <th>Grau Escolaridade</th>\n",
       "      <td>0</td>\n",
       "    </tr>\n",
       "    <tr>\n",
       "      <th>Etnia</th>\n",
       "      <td>0</td>\n",
       "    </tr>\n",
       "    <tr>\n",
       "      <th>Licenciatura</th>\n",
       "      <td>0</td>\n",
       "    </tr>\n",
       "    <tr>\n",
       "      <th>Específico: Anos Finais</th>\n",
       "      <td>0</td>\n",
       "    </tr>\n",
       "    <tr>\n",
       "      <th>Específico: Ensino Médio</th>\n",
       "      <td>0</td>\n",
       "    </tr>\n",
       "    <tr>\n",
       "      <th>Específico: EJA</th>\n",
       "      <td>0</td>\n",
       "    </tr>\n",
       "    <tr>\n",
       "      <th>Específico: Educação Especial</th>\n",
       "      <td>0</td>\n",
       "    </tr>\n",
       "    <tr>\n",
       "      <th>Tipo de Docência</th>\n",
       "      <td>0</td>\n",
       "    </tr>\n",
       "    <tr>\n",
       "      <th>TP_REGULAMENTACAO</th>\n",
       "      <td>0</td>\n",
       "    </tr>\n",
       "  </tbody>\n",
       "</table>\n",
       "</div>"
      ],
      "text/plain": [
       "                               NaN_Values\n",
       "Tipo de Contratação                144727\n",
       "Matemática                          84538\n",
       "Com espec.                          32380\n",
       "Com mestrado                        32380\n",
       "Idade                                   0\n",
       "Sexo                                    0\n",
       "Grau Escolaridade                       0\n",
       "Etnia                                   0\n",
       "Licenciatura                            0\n",
       "Específico: Anos Finais                 0\n",
       "Específico: Ensino Médio                0\n",
       "Específico: EJA                         0\n",
       "Específico: Educação Especial           0\n",
       "Tipo de Docência                        0\n",
       "TP_REGULAMENTACAO                       0"
      ]
     },
     "execution_count": 462,
     "metadata": {},
     "output_type": "execute_result"
    }
   ],
   "source": [
    "#Verificando os dados nulos\n",
    "\n",
    "dados_null = dados_1[dados_1.isnull().values.any(axis=1)]\n",
    "NAvalues = dados_null.isnull().sum()\n",
    "\n",
    "NAvaluesFrame = pd.DataFrame(NAvalues.sort_values(ascending = False), columns = ['NaN_Values'])\n",
    "\n",
    "NAvaluesFrame"
   ]
  },
  {
   "cell_type": "code",
   "execution_count": 463,
   "id": "f68c9b96",
   "metadata": {},
   "outputs": [
    {
     "data": {
      "text/plain": [
       "Idade                            0\n",
       "Sexo                             0\n",
       "Grau Escolaridade                0\n",
       "Etnia                            0\n",
       "Licenciatura                     0\n",
       "Com espec.                       0\n",
       "Com mestrado                     0\n",
       "Matemática                       0\n",
       "Específico: Anos Finais          0\n",
       "Específico: Ensino Médio         0\n",
       "Específico: EJA                  0\n",
       "Específico: Educação Especial    0\n",
       "Tipo de Docência                 0\n",
       "Tipo de Contratação              0\n",
       "TP_REGULAMENTACAO                0\n",
       "dtype: int64"
      ]
     },
     "execution_count": 463,
     "metadata": {},
     "output_type": "execute_result"
    }
   ],
   "source": [
    "dados_1.fillna(0, inplace=True)\n",
    "dados_1.isna().sum()"
   ]
  },
  {
   "cell_type": "code",
   "execution_count": 464,
   "id": "9d5bbef4",
   "metadata": {},
   "outputs": [
    {
     "data": {
      "text/plain": [
       "Idade                              int64\n",
       "Sexo                               int64\n",
       "Grau Escolaridade                  int64\n",
       "Etnia                              int64\n",
       "Licenciatura                       int64\n",
       "Com espec.                       float64\n",
       "Com mestrado                     float64\n",
       "Matemática                       float64\n",
       "Específico: Anos Finais            int64\n",
       "Específico: Ensino Médio           int64\n",
       "Específico: EJA                    int64\n",
       "Específico: Educação Especial      int64\n",
       "Tipo de Docência                   int64\n",
       "Tipo de Contratação              float64\n",
       "TP_REGULAMENTACAO                  int64\n",
       "dtype: object"
      ]
     },
     "execution_count": 464,
     "metadata": {},
     "output_type": "execute_result"
    }
   ],
   "source": [
    "dados_1.dtypes"
   ]
  },
  {
   "cell_type": "code",
   "execution_count": 465,
   "id": "afb66b79",
   "metadata": {},
   "outputs": [
    {
     "name": "stdout",
     "output_type": "stream",
     "text": [
      "Rows: 500000\n",
      "Columns: 15\n"
     ]
    }
   ],
   "source": [
    "#Dimensões do dataframe\n",
    "\n",
    "print('Rows: {}\\nColumns: {}'.format(dados_1.shape[0], dados_1.shape[1]))"
   ]
  },
  {
   "attachments": {},
   "cell_type": "markdown",
   "id": "f0c87f3f",
   "metadata": {},
   "source": [
    "## Análises Estatísticas\n"
   ]
  },
  {
   "cell_type": "code",
   "execution_count": 466,
   "id": "ae171466",
   "metadata": {},
   "outputs": [
    {
     "data": {
      "image/png": "[encoded data removed]",
      "text/plain": [
       "<Figure size 432x288 with 1 Axes>"
      ]
     },
     "metadata": {},
     "output_type": "display_data"
    }
   ],
   "source": [
    "# plotando dados referentes a porcentagem de homens e mulheres docentes na região sudeste, para uma amostra 'x'\n",
    "\n",
    "## A intenção com essa análise é entender a distribuição de sexo sobre a matéria de matemática, respondendo a pergunta: são homens a maioria de professores de matemática?\n",
    "\n",
    "labels = 'Mulheres', 'Homens'\n",
    "sizes = dados_1['Sexo'].value_counts()\n",
    "\n",
    "fig1, ax1 = plt.subplots()\n",
    "ax1.pie(sizes, labels=labels, autopct='%1.1f%%',\n",
    "        shadow=True, startangle=90)\n",
    "ax1.axis('equal')\n",
    "\n",
    "plt.show()"
   ]
  },
  {
   "cell_type": "code",
   "execution_count": 467,
   "id": "2a6fd8f9",
   "metadata": {},
   "outputs": [
    {
     "data": {
      "text/plain": [
       "[Text(0, 0, '272'),\n",
       " Text(0, 0, '749'),\n",
       " Text(0, 0, '31359'),\n",
       " Text(0, 0, '467620')]"
      ]
     },
     "execution_count": 467,
     "metadata": {},
     "output_type": "execute_result"
    },
    {
     "data": {
      "image/png": "[encoded data removed]",
      "text/plain": [
       "<Figure size 1008x504 with 1 Axes>"
      ]
     },
     "metadata": {
      "needs_background": "light"
     },
     "output_type": "display_data"
    }
   ],
   "source": [
    "## Verificando a escolaridade dos professores\n",
    "\n",
    "df_esc = dados_1.copy()\n",
    "df_esc.loc[df_esc['Grau Escolaridade'] == 1, ['Grau Escolaridade']] = 'Fundamental Incompleto'\n",
    "df_esc.loc[df_esc['Grau Escolaridade'] == 2, ['Grau Escolaridade']] = 'Fundamental Completo'\n",
    "df_esc.loc[df_esc['Grau Escolaridade'] == 3, ['Grau Escolaridade']] = 'Ens. Médio Completo'\n",
    "df_esc.loc[df_esc['Grau Escolaridade'] == 4, ['Grau Escolaridade']] = 'Superior Completo'\n",
    "\n",
    "escolaridade = df_esc['Grau Escolaridade'].value_counts().sort_values(ascending=False)\n",
    "\n",
    "fig, ax = plt.subplots()\n",
    "fig.set_figheight(7)\n",
    "fig.set_figwidth(14)\n",
    "ax.set_title(\"Escolaridade\")\n",
    "\n",
    "x = escolaridade.sort_values().index\n",
    "y = escolaridade.sort_values().values\n",
    "\n",
    "bars =  ax.bar(x, y)\n",
    "ax.bar_label(bars)"
   ]
  },
  {
   "cell_type": "code",
   "execution_count": 468,
   "id": "9fdb4669",
   "metadata": {},
   "outputs": [
    {
     "data": {
      "text/plain": [
       "<AxesSubplot:xlabel='Idade'>"
      ]
     },
     "execution_count": 468,
     "metadata": {},
     "output_type": "execute_result"
    },
    {
     "data": {
      "image/png": "[encoded data removed]",
      "text/plain": [
       "<Figure size 432x288 with 1 Axes>"
      ]
     },
     "metadata": {
      "needs_background": "light"
     },
     "output_type": "display_data"
    }
   ],
   "source": [
    "## Vamos entender como estão os dados de média dentro deste dataset, respondendo a pergunta: Qual é a média de idade dos professores?\n",
    "\n",
    "fig, ax = plt.subplots()\n",
    "sns.boxplot(x=dados_1['Idade'])"
   ]
  },
  {
   "cell_type": "code",
   "execution_count": 469,
   "id": "00d7a519",
   "metadata": {},
   "outputs": [
    {
     "data": {
      "text/plain": [
       "42.42847"
      ]
     },
     "execution_count": 469,
     "metadata": {},
     "output_type": "execute_result"
    }
   ],
   "source": [
    "dados_1['Idade'].mean()"
   ]
  },
  {
   "cell_type": "code",
   "execution_count": 470,
   "id": "0dca67fa",
   "metadata": {},
   "outputs": [
    {
     "data": {
      "text/plain": [
       "[Text(0, 0, '15320'),\n",
       " Text(0, 0, '15395'),\n",
       " Text(0, 0, '16030'),\n",
       " Text(0, 0, '16117'),\n",
       " Text(0, 0, '16283'),\n",
       " Text(0, 0, '16285'),\n",
       " Text(0, 0, '16601'),\n",
       " Text(0, 0, '16983'),\n",
       " Text(0, 0, '17248'),\n",
       " Text(0, 0, '18176'),\n",
       " Text(0, 0, '18245'),\n",
       " Text(0, 0, '18407'),\n",
       " Text(0, 0, '19182'),\n",
       " Text(0, 0, '19637'),\n",
       " Text(0, 0, '21330')]"
      ]
     },
     "execution_count": 470,
     "metadata": {},
     "output_type": "execute_result"
    },
    {
     "data": {
      "image/png": "[encoded data removed]",
      "text/plain": [
       "<Figure size 1008x504 with 1 Axes>"
      ]
     },
     "metadata": {
      "needs_background": "light"
     },
     "output_type": "display_data"
    }
   ],
   "source": [
    "## Distribuição do Top 15 idades por professores\n",
    "\n",
    "## Entendendo que a média é de 42 anos, será que, então, a maior quantidade de professore se concentra nesta região?\n",
    "\n",
    "idades = dados_1['Idade'].value_counts().sort_values(ascending=False)\n",
    "\n",
    "fig, ax = plt.subplots()\n",
    "fig.set_figheight(7)\n",
    "fig.set_figwidth(14)\n",
    "ax.set_title(\"Distribuição de Top 15 Idades\")\n",
    "\n",
    "x = idades.sort_values().tail(15).index\n",
    "y = idades.sort_values().tail(15).values\n",
    "\n",
    "bars =  ax.bar(x, y)\n",
    "ax.bar_label(bars)\n",
    "\n"
   ]
  },
  {
   "cell_type": "code",
   "execution_count": 471,
   "id": "bf5a01dd",
   "metadata": {},
   "outputs": [
    {
     "name": "stdout",
     "output_type": "stream",
     "text": [
      "Podemos notar o desvio padrão de 10 anos\n"
     ]
    }
   ],
   "source": [
    "# Ao entender esse número acima, vendo que a maior concentração de professores está entre 37 e 41 anos, qual seria o desvio padrão?\n",
    "\n",
    "dev = np.std(dados_1['Idade'])\n",
    "\n",
    "print(f'Podemos notar o desvio padrão de {round(dev)} anos')"
   ]
  },
  {
   "attachments": {},
   "cell_type": "markdown",
   "id": "d9ac2135",
   "metadata": {},
   "source": [
    "É importante notar que grande parte dos professores estão na casa do 40 anos, sendo assim não temos muitos novos integrantes dentro dessa amostra."
   ]
  },
  {
   "cell_type": "code",
   "execution_count": 472,
   "id": "10e22218",
   "metadata": {},
   "outputs": [
    {
     "data": {
      "image/png": "[encoded data removed]",
      "text/plain": [
       "<Figure size 432x288 with 1 Axes>"
      ]
     },
     "metadata": {},
     "output_type": "display_data"
    }
   ],
   "source": [
    "## Da mesma forma, então, vamos avaliar os professores que estariam entrando nesta profissão: começaremos com um range de até 23 anos, dado que um professor pode, em geral, atuar a partir dos 18 anos, e as faculdades de matemática possuem entre 3 a 4 anos de duração.\n",
    "\n",
    "labels = 'Mulheres', 'Homens'\n",
    "\n",
    "dados_2 = dados_1.copy()\n",
    "dados_2 = dados_2.loc[dados_2['Idade'] < 26]\n",
    "\n",
    "sizes = dados_2['Sexo'].value_counts()\n",
    "\n",
    "fig1, ax1 = plt.subplots()\n",
    "ax1.pie(sizes, labels=labels, autopct='%1.1f%%',\n",
    "        shadow=True, startangle=90)\n",
    "ax1.axis('equal')\n",
    "\n",
    "plt.show()"
   ]
  },
  {
   "cell_type": "code",
   "execution_count": 473,
   "id": "d64822fc",
   "metadata": {},
   "outputs": [
    {
     "data": {
      "text/plain": [
       "[Text(0, 0, '1'),\n",
       " Text(0, 0, '12'),\n",
       " Text(0, 0, '24'),\n",
       " Text(0, 0, '138'),\n",
       " Text(0, 0, '334'),\n",
       " Text(0, 0, '808'),\n",
       " Text(0, 0, '1120'),\n",
       " Text(0, 0, '1914'),\n",
       " Text(0, 0, '2817'),\n",
       " Text(0, 0, '4005'),\n",
       " Text(0, 0, '5337')]"
      ]
     },
     "execution_count": 473,
     "metadata": {},
     "output_type": "execute_result"
    },
    {
     "data": {
      "image/png": "[encoded data removed]",
      "text/plain": [
       "<Figure size 1008x504 with 1 Axes>"
      ]
     },
     "metadata": {
      "needs_background": "light"
     },
     "output_type": "display_data"
    }
   ],
   "source": [
    "## Aqui observamos um fenômeno interessante: quanto maior a idade, maior o numero de ingressantes. Uma possível explicação para esse fenômeno pode ser o estágio, porém está fora deste escopo analisar esse ponto\n",
    "\n",
    "idades = dados_2['Idade'].value_counts()\n",
    "\n",
    "fig, ax = plt.subplots()\n",
    "fig.set_figheight(7)\n",
    "fig.set_figwidth(14)\n",
    "ax.set_title(\"Distribuição de professores com 25 anos ou menos\")\n",
    "\n",
    "x = idades.sort_values().index\n",
    "y = idades.sort_values().values\n",
    "\n",
    "bars =  ax.bar(x, y)\n",
    "ax.bar_label(bars)"
   ]
  },
  {
   "cell_type": "code",
   "execution_count": 474,
   "id": "cb5bd2ea",
   "metadata": {},
   "outputs": [
    {
     "name": "stdout",
     "output_type": "stream",
     "text": [
      "178423 professores possuem especialização, enquanto 321577 não possuem, o que equivale a 64.0 do total para essa categoria\n"
     ]
    }
   ],
   "source": [
    "## E quantos são os professores que se especializaram e tem registro nesta amostra? Essa análise ajudará a entender se a especialização faz parte importante da entrada de um novo estudante\n",
    "\n",
    "não, sim = dados_1['Com espec.'].value_counts()\n",
    "print(f'{sim} professores possuem especialização, enquanto {não} não possuem, o que equivale a {round(não / (sim+não), 2) * 100} do total para essa categoria')"
   ]
  },
  {
   "cell_type": "code",
   "execution_count": 475,
   "id": "998fef5b",
   "metadata": {},
   "outputs": [
    {
     "name": "stdout",
     "output_type": "stream",
     "text": [
      "Anos Finais: 271 \n",
      "Ensino Médio: 340\n"
     ]
    }
   ],
   "source": [
    "# Dado que os maiores modelos são os de educação básica dos anos finais e ensino médio, qual é o percentual dos professores nesses dois modelos, quando a entrada dos professores é de menos de 25 anos?\n",
    "# Vemos que grande parte desta amostra de professores não está direcionada para a educação básica\n",
    "\n",
    "a = dados_2['Específico: Anos Finais'].loc[dados_2['Específico: Anos Finais'] == 1].count()\n",
    "b = dados_2['Específico: Ensino Médio'].loc[dados_2['Específico: Ensino Médio'] == 1].count()\n",
    "\n",
    "print(f'Anos Finais: {a} \\nEnsino Médio: {b}')"
   ]
  },
  {
   "cell_type": "markdown",
   "id": "8705599d",
   "metadata": {},
   "source": [
    "# Analisando modelos para previsão de novos professores"
   ]
  },
  {
   "attachments": {},
   "cell_type": "markdown",
   "id": "7c7f56f8",
   "metadata": {},
   "source": [
    "Um grande problema apresentado na região do autor deste notebook é: o número de novos professores de matemática para as vagas na região de Itaquaquecetuba, em São Paulo, é pequeno para a quantidade de aulas que existem atualmente. \n",
    "\n",
    "Será que podemos prever se, de acordo com as características dos professores que se cadastram nas diretorias de ensino da região sudeste do país, podemos prever o número de professores que será de matemática, seguindo a premissa (ideia) de suprir a demanda de aulas vagas nesta matéria, e imaginando que a idade de entrada seria até os 25 anos?"
   ]
  },
  {
   "cell_type": "code",
   "execution_count": 476,
   "id": "3bbea254",
   "metadata": {},
   "outputs": [
    {
     "data": {
      "text/html": [
       "<div>\n",
       "<style scoped>\n",
       "    .dataframe tbody tr th:only-of-type {\n",
       "        vertical-align: middle;\n",
       "    }\n",
       "\n",
       "    .dataframe tbody tr th {\n",
       "        vertical-align: top;\n",
       "    }\n",
       "\n",
       "    .dataframe thead th {\n",
       "        text-align: right;\n",
       "    }\n",
       "</style>\n",
       "<table border=\"1\" class=\"dataframe\">\n",
       "  <thead>\n",
       "    <tr style=\"text-align: right;\">\n",
       "      <th></th>\n",
       "      <th>Idade</th>\n",
       "      <th>Sexo</th>\n",
       "      <th>Grau Escolaridade</th>\n",
       "      <th>Etnia</th>\n",
       "      <th>Licenciatura</th>\n",
       "      <th>Com espec.</th>\n",
       "      <th>Com mestrado</th>\n",
       "      <th>Matemática</th>\n",
       "      <th>Específico: Anos Finais</th>\n",
       "      <th>Específico: Ensino Médio</th>\n",
       "      <th>Específico: EJA</th>\n",
       "      <th>Específico: Educação Especial</th>\n",
       "      <th>Tipo de Docência</th>\n",
       "      <th>Tipo de Contratação</th>\n",
       "      <th>TP_REGULAMENTACAO</th>\n",
       "    </tr>\n",
       "  </thead>\n",
       "  <tbody>\n",
       "    <tr>\n",
       "      <th>0</th>\n",
       "      <td>33</td>\n",
       "      <td>1</td>\n",
       "      <td>4</td>\n",
       "      <td>1</td>\n",
       "      <td>1</td>\n",
       "      <td>0.0</td>\n",
       "      <td>0.0</td>\n",
       "      <td>1.0</td>\n",
       "      <td>0</td>\n",
       "      <td>0</td>\n",
       "      <td>0</td>\n",
       "      <td>0</td>\n",
       "      <td>1</td>\n",
       "      <td>0.0</td>\n",
       "      <td>1</td>\n",
       "    </tr>\n",
       "    <tr>\n",
       "      <th>1</th>\n",
       "      <td>33</td>\n",
       "      <td>1</td>\n",
       "      <td>4</td>\n",
       "      <td>1</td>\n",
       "      <td>1</td>\n",
       "      <td>0.0</td>\n",
       "      <td>0.0</td>\n",
       "      <td>1.0</td>\n",
       "      <td>0</td>\n",
       "      <td>0</td>\n",
       "      <td>0</td>\n",
       "      <td>0</td>\n",
       "      <td>1</td>\n",
       "      <td>0.0</td>\n",
       "      <td>1</td>\n",
       "    </tr>\n",
       "    <tr>\n",
       "      <th>2</th>\n",
       "      <td>33</td>\n",
       "      <td>1</td>\n",
       "      <td>4</td>\n",
       "      <td>1</td>\n",
       "      <td>1</td>\n",
       "      <td>0.0</td>\n",
       "      <td>0.0</td>\n",
       "      <td>1.0</td>\n",
       "      <td>0</td>\n",
       "      <td>0</td>\n",
       "      <td>0</td>\n",
       "      <td>0</td>\n",
       "      <td>1</td>\n",
       "      <td>0.0</td>\n",
       "      <td>1</td>\n",
       "    </tr>\n",
       "    <tr>\n",
       "      <th>3</th>\n",
       "      <td>33</td>\n",
       "      <td>1</td>\n",
       "      <td>4</td>\n",
       "      <td>1</td>\n",
       "      <td>1</td>\n",
       "      <td>0.0</td>\n",
       "      <td>0.0</td>\n",
       "      <td>1.0</td>\n",
       "      <td>0</td>\n",
       "      <td>0</td>\n",
       "      <td>0</td>\n",
       "      <td>0</td>\n",
       "      <td>1</td>\n",
       "      <td>0.0</td>\n",
       "      <td>1</td>\n",
       "    </tr>\n",
       "    <tr>\n",
       "      <th>4</th>\n",
       "      <td>33</td>\n",
       "      <td>1</td>\n",
       "      <td>4</td>\n",
       "      <td>1</td>\n",
       "      <td>1</td>\n",
       "      <td>0.0</td>\n",
       "      <td>0.0</td>\n",
       "      <td>1.0</td>\n",
       "      <td>0</td>\n",
       "      <td>0</td>\n",
       "      <td>0</td>\n",
       "      <td>0</td>\n",
       "      <td>1</td>\n",
       "      <td>0.0</td>\n",
       "      <td>1</td>\n",
       "    </tr>\n",
       "    <tr>\n",
       "      <th>...</th>\n",
       "      <td>...</td>\n",
       "      <td>...</td>\n",
       "      <td>...</td>\n",
       "      <td>...</td>\n",
       "      <td>...</td>\n",
       "      <td>...</td>\n",
       "      <td>...</td>\n",
       "      <td>...</td>\n",
       "      <td>...</td>\n",
       "      <td>...</td>\n",
       "      <td>...</td>\n",
       "      <td>...</td>\n",
       "      <td>...</td>\n",
       "      <td>...</td>\n",
       "      <td>...</td>\n",
       "    </tr>\n",
       "    <tr>\n",
       "      <th>1495</th>\n",
       "      <td>32</td>\n",
       "      <td>2</td>\n",
       "      <td>4</td>\n",
       "      <td>1</td>\n",
       "      <td>1</td>\n",
       "      <td>0.0</td>\n",
       "      <td>0.0</td>\n",
       "      <td>0.0</td>\n",
       "      <td>0</td>\n",
       "      <td>0</td>\n",
       "      <td>0</td>\n",
       "      <td>0</td>\n",
       "      <td>1</td>\n",
       "      <td>0.0</td>\n",
       "      <td>1</td>\n",
       "    </tr>\n",
       "    <tr>\n",
       "      <th>1496</th>\n",
       "      <td>32</td>\n",
       "      <td>2</td>\n",
       "      <td>4</td>\n",
       "      <td>1</td>\n",
       "      <td>1</td>\n",
       "      <td>0.0</td>\n",
       "      <td>0.0</td>\n",
       "      <td>0.0</td>\n",
       "      <td>0</td>\n",
       "      <td>0</td>\n",
       "      <td>0</td>\n",
       "      <td>0</td>\n",
       "      <td>1</td>\n",
       "      <td>0.0</td>\n",
       "      <td>1</td>\n",
       "    </tr>\n",
       "    <tr>\n",
       "      <th>1497</th>\n",
       "      <td>32</td>\n",
       "      <td>2</td>\n",
       "      <td>4</td>\n",
       "      <td>1</td>\n",
       "      <td>1</td>\n",
       "      <td>0.0</td>\n",
       "      <td>0.0</td>\n",
       "      <td>0.0</td>\n",
       "      <td>0</td>\n",
       "      <td>0</td>\n",
       "      <td>0</td>\n",
       "      <td>0</td>\n",
       "      <td>1</td>\n",
       "      <td>0.0</td>\n",
       "      <td>1</td>\n",
       "    </tr>\n",
       "    <tr>\n",
       "      <th>1498</th>\n",
       "      <td>32</td>\n",
       "      <td>2</td>\n",
       "      <td>4</td>\n",
       "      <td>1</td>\n",
       "      <td>1</td>\n",
       "      <td>0.0</td>\n",
       "      <td>0.0</td>\n",
       "      <td>0.0</td>\n",
       "      <td>0</td>\n",
       "      <td>0</td>\n",
       "      <td>0</td>\n",
       "      <td>0</td>\n",
       "      <td>1</td>\n",
       "      <td>0.0</td>\n",
       "      <td>1</td>\n",
       "    </tr>\n",
       "    <tr>\n",
       "      <th>1499</th>\n",
       "      <td>32</td>\n",
       "      <td>2</td>\n",
       "      <td>4</td>\n",
       "      <td>1</td>\n",
       "      <td>1</td>\n",
       "      <td>0.0</td>\n",
       "      <td>0.0</td>\n",
       "      <td>0.0</td>\n",
       "      <td>0</td>\n",
       "      <td>0</td>\n",
       "      <td>0</td>\n",
       "      <td>0</td>\n",
       "      <td>1</td>\n",
       "      <td>0.0</td>\n",
       "      <td>1</td>\n",
       "    </tr>\n",
       "  </tbody>\n",
       "</table>\n",
       "<p>1500 rows × 15 columns</p>\n",
       "</div>"
      ],
      "text/plain": [
       "      Idade  Sexo  Grau Escolaridade  Etnia  Licenciatura  Com espec.  \\\n",
       "0        33     1                  4      1             1         0.0   \n",
       "1        33     1                  4      1             1         0.0   \n",
       "2        33     1                  4      1             1         0.0   \n",
       "3        33     1                  4      1             1         0.0   \n",
       "4        33     1                  4      1             1         0.0   \n",
       "...     ...   ...                ...    ...           ...         ...   \n",
       "1495     32     2                  4      1             1         0.0   \n",
       "1496     32     2                  4      1             1         0.0   \n",
       "1497     32     2                  4      1             1         0.0   \n",
       "1498     32     2                  4      1             1         0.0   \n",
       "1499     32     2                  4      1             1         0.0   \n",
       "\n",
       "      Com mestrado  Matemática  Específico: Anos Finais  \\\n",
       "0              0.0         1.0                        0   \n",
       "1              0.0         1.0                        0   \n",
       "2              0.0         1.0                        0   \n",
       "3              0.0         1.0                        0   \n",
       "4              0.0         1.0                        0   \n",
       "...            ...         ...                      ...   \n",
       "1495           0.0         0.0                        0   \n",
       "1496           0.0         0.0                        0   \n",
       "1497           0.0         0.0                        0   \n",
       "1498           0.0         0.0                        0   \n",
       "1499           0.0         0.0                        0   \n",
       "\n",
       "      Específico: Ensino Médio  Específico: EJA  \\\n",
       "0                            0                0   \n",
       "1                            0                0   \n",
       "2                            0                0   \n",
       "3                            0                0   \n",
       "4                            0                0   \n",
       "...                        ...              ...   \n",
       "1495                         0                0   \n",
       "1496                         0                0   \n",
       "1497                         0                0   \n",
       "1498                         0                0   \n",
       "1499                         0                0   \n",
       "\n",
       "      Específico: Educação Especial  Tipo de Docência  Tipo de Contratação  \\\n",
       "0                                 0                 1                  0.0   \n",
       "1                                 0                 1                  0.0   \n",
       "2                                 0                 1                  0.0   \n",
       "3                                 0                 1                  0.0   \n",
       "4                                 0                 1                  0.0   \n",
       "...                             ...               ...                  ...   \n",
       "1495                              0                 1                  0.0   \n",
       "1496                              0                 1                  0.0   \n",
       "1497                              0                 1                  0.0   \n",
       "1498                              0                 1                  0.0   \n",
       "1499                              0                 1                  0.0   \n",
       "\n",
       "      TP_REGULAMENTACAO  \n",
       "0                     1  \n",
       "1                     1  \n",
       "2                     1  \n",
       "3                     1  \n",
       "4                     1  \n",
       "...                 ...  \n",
       "1495                  1  \n",
       "1496                  1  \n",
       "1497                  1  \n",
       "1498                  1  \n",
       "1499                  1  \n",
       "\n",
       "[1500 rows x 15 columns]"
      ]
     },
     "execution_count": 476,
     "metadata": {},
     "output_type": "execute_result"
    }
   ],
   "source": [
    "# Previsão para o futuro\n",
    "df1 = dados_1[:1500]\n",
    "df1 "
   ]
  },
  {
   "cell_type": "code",
   "execution_count": 477,
   "id": "6a0ef462",
   "metadata": {},
   "outputs": [],
   "source": [
    "## Seguindo o método de classificação, selecionamos as K melhores colunas\n",
    "\n",
    "# X = df1.copy()\n",
    "# X = X.drop(['Matemática'], axis=1)\n",
    "# y = df1['Matemática'].copy()\n",
    "# f_class = SelectKBest(chi2, k=15)\n",
    "# fit = f_class.fit(X,y)\n",
    "# features = fit.transform(X)\n",
    "\n",
    "# cols = fit.get_support(indices=True)\n",
    "# df.iloc[:,cols]"
   ]
  },
  {
   "cell_type": "markdown",
   "id": "3694eb73",
   "metadata": {},
   "source": [
    "### Analisando com SVM"
   ]
  },
  {
   "cell_type": "code",
   "execution_count": 478,
   "id": "0414ae8f",
   "metadata": {},
   "outputs": [],
   "source": [
    "## teste para descobrir como se comporta o modelo de classificação aos dados do projeto\n",
    "\n",
    "from sklearn import svm\n",
    "from sklearn.model_selection import  train_test_split"
   ]
  },
  {
   "cell_type": "code",
   "execution_count": 479,
   "id": "256dbc41",
   "metadata": {},
   "outputs": [
    {
     "name": "stderr",
     "output_type": "stream",
     "text": [
      "C:\\Users\\sergi\\AppData\\Roaming\\Python\\Python39\\site-packages\\pandas\\core\\series.py:4460: SettingWithCopyWarning: \n",
      "A value is trying to be set on a copy of a slice from a DataFrame\n",
      "\n",
      "See the caveats in the documentation: https://pandas.pydata.org/pandas-docs/stable/user_guide/indexing.html#returning-a-view-versus-a-copy\n",
      "  return super().fillna(\n"
     ]
    }
   ],
   "source": [
    "data = df1.drop('Matemática', axis=1)\n",
    "target = df1['Matemática']\n",
    "\n",
    "data.fillna(0, inplace=True)\n",
    "target.fillna(0, inplace=True)\n",
    "\n",
    "x = data\n",
    "y = target\n"
   ]
  },
  {
   "cell_type": "code",
   "execution_count": 480,
   "id": "9982f4d6",
   "metadata": {},
   "outputs": [],
   "source": [
    "x_train, x_test, y_train, y_test = train_test_split(x, y, test_size = 0.3, random_state = 0)"
   ]
  },
  {
   "cell_type": "code",
   "execution_count": 481,
   "id": "4d123abf",
   "metadata": {},
   "outputs": [],
   "source": [
    "classifier = svm.SVC(C=1.0, probability=True)"
   ]
  },
  {
   "cell_type": "code",
   "execution_count": 482,
   "id": "75a15c1b",
   "metadata": {},
   "outputs": [
    {
     "data": {
      "text/plain": [
       "SVC(probability=True)"
      ]
     },
     "execution_count": 482,
     "metadata": {},
     "output_type": "execute_result"
    }
   ],
   "source": [
    "classifier.fit(x_train, y_train)"
   ]
  },
  {
   "cell_type": "code",
   "execution_count": 483,
   "id": "d8fcec19",
   "metadata": {},
   "outputs": [
    {
     "name": "stdout",
     "output_type": "stream",
     "text": [
      "[0. 0. 0. 0. 0. 0. 0. 0. 0. 0. 0. 0. 0. 0. 0. 0. 0. 0. 0. 0. 0. 0. 0. 0.\n",
      " 0. 0. 0. 0. 0. 0. 0. 0. 0. 0. 0. 0. 0. 0. 0. 0. 0. 0. 0. 0. 0. 0. 0. 0.\n",
      " 0. 0. 0. 0. 0. 0. 0. 0. 0. 0. 0. 0. 0. 0. 0. 0. 0. 0. 0. 0. 0. 0. 0. 0.\n",
      " 0. 0. 0. 0. 0. 0. 0. 0. 0. 0. 0. 0. 0. 0. 0. 0. 0. 0. 0. 0. 0. 0. 0. 0.\n",
      " 0. 0. 0. 0. 0. 0. 0. 0. 0. 0. 0. 0. 0. 0. 0. 0. 0. 0. 0. 0. 0. 0. 0. 0.\n",
      " 0. 0. 0. 0. 0. 0. 0. 0. 0. 0. 0. 0. 0. 0. 0. 0. 0. 0. 0. 0. 0. 0. 0. 0.\n",
      " 0. 0. 0. 0. 0. 0. 0. 0. 0. 0. 0. 0. 0. 0. 0. 0. 0. 0. 0. 0. 0. 0. 0. 0.\n",
      " 0. 0. 0. 0. 0. 0. 0. 0. 0. 0. 0. 0. 0. 0. 0. 0. 0. 0. 0. 0. 0. 0. 0. 0.\n",
      " 0. 0. 0. 0. 0. 0. 0. 0. 0. 0. 0. 0. 0. 0. 0. 0. 0. 0. 0. 0. 0. 0. 0. 0.\n",
      " 0. 0. 0. 0. 0. 0. 0. 0. 0. 0. 0. 0. 0. 0. 0. 0. 0. 0. 0. 0. 0. 0. 0. 0.\n",
      " 0. 0. 0. 0. 0. 0. 0. 0. 0. 0. 0. 0. 0. 0. 0. 0. 0. 0. 0. 0. 0. 0. 0. 0.\n",
      " 0. 0. 0. 0. 0. 0. 0. 0. 0. 0. 0. 0. 0. 0. 0. 0. 0. 0. 0. 0. 0. 0. 0. 0.\n",
      " 0. 0. 0. 0. 0. 0. 0. 0. 0. 0. 0. 0. 0. 0. 0. 0. 0. 0. 0. 0. 0. 0. 0. 0.\n",
      " 0. 0. 0. 0. 0. 0. 0. 0. 0. 0. 0. 0. 0. 0. 0. 0. 0. 0. 0. 0. 0. 0. 0. 0.\n",
      " 0. 0. 0. 0. 0. 0. 0. 0. 0. 0. 0. 0. 0. 0. 0. 0. 0. 0. 0. 0. 0. 0. 0. 0.\n",
      " 0. 0. 0. 0. 0. 0. 0. 0. 0. 0. 0. 0. 0. 0. 0. 0. 0. 0. 0. 0. 0. 0. 0. 0.\n",
      " 0. 0. 0. 0. 0. 0. 0. 0. 0. 0. 0. 0. 0. 0. 0. 0. 0. 0. 0. 0. 0. 0. 0. 0.\n",
      " 0. 0. 0. 0. 0. 0. 0. 0. 0. 0. 0. 0. 0. 0. 0. 0. 0. 0. 0. 0. 0. 0. 0. 0.\n",
      " 0. 0. 0. 0. 0. 0. 0. 0. 0. 0. 0. 0. 0. 0. 0. 0. 0. 0.]\n"
     ]
    }
   ],
   "source": [
    "print(classifier.predict(x_test))"
   ]
  },
  {
   "cell_type": "code",
   "execution_count": 484,
   "id": "86756d6e",
   "metadata": {},
   "outputs": [
    {
     "data": {
      "text/plain": [
       "0.8644444444444445"
      ]
     },
     "execution_count": 484,
     "metadata": {},
     "output_type": "execute_result"
    }
   ],
   "source": [
    "classifier.score(x_test, y_test)"
   ]
  },
  {
   "cell_type": "code",
   "execution_count": 485,
   "id": "029cfcc8",
   "metadata": {},
   "outputs": [
    {
     "name": "stderr",
     "output_type": "stream",
     "text": [
      "<ipython-input-485-514d2e46553a>:2: SettingWithCopyWarning: \n",
      "A value is trying to be set on a copy of a slice from a DataFrame.\n",
      "Try using .loc[row_indexer,col_indexer] = value instead\n",
      "\n",
      "See the caveats in the documentation: https://pandas.pydata.org/pandas-docs/stable/user_guide/indexing.html#returning-a-view-versus-a-copy\n",
      "  df1['classificacao'] = classificacao\n"
     ]
    },
    {
     "data": {
      "text/html": [
       "<div>\n",
       "<style scoped>\n",
       "    .dataframe tbody tr th:only-of-type {\n",
       "        vertical-align: middle;\n",
       "    }\n",
       "\n",
       "    .dataframe tbody tr th {\n",
       "        vertical-align: top;\n",
       "    }\n",
       "\n",
       "    .dataframe thead th {\n",
       "        text-align: right;\n",
       "    }\n",
       "</style>\n",
       "<table border=\"1\" class=\"dataframe\">\n",
       "  <thead>\n",
       "    <tr style=\"text-align: right;\">\n",
       "      <th></th>\n",
       "      <th>Matemática</th>\n",
       "      <th>classificacao</th>\n",
       "    </tr>\n",
       "  </thead>\n",
       "  <tbody>\n",
       "    <tr>\n",
       "      <th>0</th>\n",
       "      <td>1.0</td>\n",
       "      <td>0.0</td>\n",
       "    </tr>\n",
       "    <tr>\n",
       "      <th>1</th>\n",
       "      <td>1.0</td>\n",
       "      <td>0.0</td>\n",
       "    </tr>\n",
       "    <tr>\n",
       "      <th>2</th>\n",
       "      <td>1.0</td>\n",
       "      <td>0.0</td>\n",
       "    </tr>\n",
       "    <tr>\n",
       "      <th>3</th>\n",
       "      <td>1.0</td>\n",
       "      <td>0.0</td>\n",
       "    </tr>\n",
       "    <tr>\n",
       "      <th>4</th>\n",
       "      <td>1.0</td>\n",
       "      <td>0.0</td>\n",
       "    </tr>\n",
       "    <tr>\n",
       "      <th>...</th>\n",
       "      <td>...</td>\n",
       "      <td>...</td>\n",
       "    </tr>\n",
       "    <tr>\n",
       "      <th>1495</th>\n",
       "      <td>0.0</td>\n",
       "      <td>0.0</td>\n",
       "    </tr>\n",
       "    <tr>\n",
       "      <th>1496</th>\n",
       "      <td>0.0</td>\n",
       "      <td>0.0</td>\n",
       "    </tr>\n",
       "    <tr>\n",
       "      <th>1497</th>\n",
       "      <td>0.0</td>\n",
       "      <td>0.0</td>\n",
       "    </tr>\n",
       "    <tr>\n",
       "      <th>1498</th>\n",
       "      <td>0.0</td>\n",
       "      <td>0.0</td>\n",
       "    </tr>\n",
       "    <tr>\n",
       "      <th>1499</th>\n",
       "      <td>0.0</td>\n",
       "      <td>0.0</td>\n",
       "    </tr>\n",
       "  </tbody>\n",
       "</table>\n",
       "<p>1500 rows × 2 columns</p>\n",
       "</div>"
      ],
      "text/plain": [
       "      Matemática  classificacao\n",
       "0            1.0            0.0\n",
       "1            1.0            0.0\n",
       "2            1.0            0.0\n",
       "3            1.0            0.0\n",
       "4            1.0            0.0\n",
       "...          ...            ...\n",
       "1495         0.0            0.0\n",
       "1496         0.0            0.0\n",
       "1497         0.0            0.0\n",
       "1498         0.0            0.0\n",
       "1499         0.0            0.0\n",
       "\n",
       "[1500 rows x 2 columns]"
      ]
     },
     "execution_count": 485,
     "metadata": {},
     "output_type": "execute_result"
    }
   ],
   "source": [
    "classificacao = classifier.predict(data)\n",
    "df1['classificacao'] = classificacao\n",
    "\n",
    "df1[['Matemática', 'classificacao']]"
   ]
  },
  {
   "cell_type": "code",
   "execution_count": 486,
   "id": "af4bcba1",
   "metadata": {},
   "outputs": [
    {
     "data": {
      "text/plain": [
       "array([0.87333333, 0.87333333, 0.87333333, 0.88      , 0.88      ,\n",
       "       0.88      , 0.88      , 0.88      , 0.88      , 0.88      ])"
      ]
     },
     "execution_count": 486,
     "metadata": {},
     "output_type": "execute_result"
    }
   ],
   "source": [
    "from sklearn.model_selection import cross_val_score\n",
    "\n",
    "val_res_clf = cross_val_score(classifier, data, target, cv=10)\n",
    "val_res_clf"
   ]
  },
  {
   "cell_type": "code",
   "execution_count": 487,
   "id": "8258f9ed",
   "metadata": {},
   "outputs": [
    {
     "data": {
      "text/plain": [
       "0.8779999999999999"
      ]
     },
     "execution_count": 487,
     "metadata": {},
     "output_type": "execute_result"
    }
   ],
   "source": [
    "#Média da acurácia do modelo usando cross validation\n",
    "\n",
    "val_res_clf.mean()"
   ]
  },
  {
   "cell_type": "code",
   "execution_count": 488,
   "id": "30b4bf55",
   "metadata": {},
   "outputs": [
    {
     "data": {
      "image/png": "[encoded data removed]",
      "text/plain": [
       "<Figure size 432x288 with 1 Axes>"
      ]
     },
     "metadata": {
      "needs_background": "light"
     },
     "output_type": "display_data"
    }
   ],
   "source": [
    "y_pred_prob = classifier.predict_proba(x_test)[:,1]\n",
    "\n",
    "# Gera fpr, tpr e thresholds\n",
    "fpr, tpr, thresholds = roc_curve(y_test, y_pred_prob)\n",
    "\n",
    "# curva ROC\n",
    "plt.plot([0, 1], [0, 1], 'k--')\n",
    "plt.plot(fpr, tpr)\n",
    "plt.xlabel('False Positive Rate')\n",
    "plt.ylabel('True Positive Rate')\n",
    "plt.title('ROC Curve')\n",
    "plt.show()"
   ]
  },
  {
   "cell_type": "code",
   "execution_count": 489,
   "id": "b74ce7c0",
   "metadata": {},
   "outputs": [
    {
     "name": "stderr",
     "output_type": "stream",
     "text": [
      "<ipython-input-489-4223518f731b>:1: SettingWithCopyWarning: \n",
      "A value is trying to be set on a copy of a slice from a DataFrame.\n",
      "Try using .loc[row_indexer,col_indexer] = value instead\n",
      "\n",
      "See the caveats in the documentation: https://pandas.pydata.org/pandas-docs/stable/user_guide/indexing.html#returning-a-view-versus-a-copy\n",
      "  df1['diff'] = df1['Matemática'] - df1['classificacao']\n"
     ]
    },
    {
     "data": {
      "text/plain": [
       "0.0    1317\n",
       "1.0     183\n",
       "Name: diff, dtype: int64"
      ]
     },
     "execution_count": 489,
     "metadata": {},
     "output_type": "execute_result"
    }
   ],
   "source": [
    "df1['diff'] = df1['Matemática'] - df1['classificacao']\n",
    "\n",
    "df1['diff'].value_counts()"
   ]
  },
  {
   "cell_type": "markdown",
   "id": "5630eb2c",
   "metadata": {},
   "source": [
    "### Decision Tree Regressor"
   ]
  },
  {
   "cell_type": "code",
   "execution_count": 490,
   "id": "b9128a67",
   "metadata": {},
   "outputs": [],
   "source": [
    "from sklearn.metrics import mean_absolute_error\n",
    "\n",
    "x_train, x_test, y_train, y_test = train_test_split(x, y, test_size = 0.3, random_state = 0)\n",
    "\n",
    "def get_mae(max_leaf_nodes, train_x, test_x, train_y, test_y):\n",
    "    tester = DecisionTreeRegressor(max_leaf_nodes=max_leaf_nodes, random_state=0)\n",
    "    tester.fit(x_train, y_train)\n",
    "    predict_mae = tester.predict(x_test)\n",
    "    mae = mean_absolute_error(y_test, predict_mae)\n",
    "    return mae"
   ]
  },
  {
   "cell_type": "code",
   "execution_count": 491,
   "id": "732782a6",
   "metadata": {},
   "outputs": [
    {
     "name": "stdout",
     "output_type": "stream",
     "text": [
      "0.08422222222222224 1000\n"
     ]
    }
   ],
   "source": [
    "candidates_max_nodes = [5, 10, 50, 100, 250, 500, 1000]\n",
    "\n",
    "error = 1e10\n",
    "for candidate in candidates_max_nodes:\n",
    "    erro_no_loop = get_mae(candidate, x_train, x_test, y_train, y_test)\n",
    "    \n",
    "    if erro_no_loop < error:\n",
    "        error = erro_no_loop\n",
    "        best_tree_size = error\n",
    "        \n",
    "print(best_tree_size, candidate)"
   ]
  },
  {
   "cell_type": "code",
   "execution_count": 492,
   "id": "23dd047e",
   "metadata": {},
   "outputs": [
    {
     "data": {
      "text/plain": [
       "0.2623853855209536"
      ]
     },
     "execution_count": 492,
     "metadata": {},
     "output_type": "execute_result"
    }
   ],
   "source": [
    "#teste com o decision tree regressor\n",
    "from sklearn.tree import DecisionTreeRegressor, plot_tree\n",
    "from sklearn.metrics import mean_squared_error\n",
    "\n",
    "tester = DecisionTreeRegressor(max_leaf_nodes=1000) #teste\n",
    "tester.fit(x_train, y_train)\n",
    "\n",
    "predicao = tester.predict(x_test)\n",
    "\n",
    "np.sqrt(mean_squared_error(y_test, predicao))"
   ]
  },
  {
   "cell_type": "code",
   "execution_count": 493,
   "id": "3b1a6826",
   "metadata": {},
   "outputs": [
    {
     "data": {
      "text/plain": [
       "0.4124769972045459"
      ]
     },
     "execution_count": 493,
     "metadata": {},
     "output_type": "execute_result"
    }
   ],
   "source": [
    "tester.score(x_test, y_test)"
   ]
  },
  {
   "cell_type": "code",
   "execution_count": 494,
   "id": "2d32d84f",
   "metadata": {},
   "outputs": [
    {
     "data": {
      "image/png": "[encoded data removed]",
      "text/plain": [
       "<Figure size 1440x1440 with 1 Axes>"
      ]
     },
     "metadata": {
      "needs_background": "light"
     },
     "output_type": "display_data"
    }
   ],
   "source": [
    "plt.figure(figsize=(20,20))  # set plot size (denoted in inches)\n",
    "plot_tree(tester, fontsize=10)\n",
    "plt.show()\n",
    "# plot_tree(tester)"
   ]
  },
  {
   "cell_type": "code",
   "execution_count": 495,
   "id": "24e98318",
   "metadata": {},
   "outputs": [
    {
     "data": {
      "text/plain": [
       "array([-1.3229893 , -2.37739808, -2.20593197, -1.86567752, -4.12757202,\n",
       "       -2.86274273, -2.19922132, -0.1784304 , -0.25911841, -1.11173337])"
      ]
     },
     "execution_count": 495,
     "metadata": {},
     "output_type": "execute_result"
    }
   ],
   "source": [
    "from sklearn.model_selection import cross_val_score\n",
    "\n",
    "val_res_clf = cross_val_score(tester, data, target, cv=10)\n",
    "val_res_clf"
   ]
  },
  {
   "cell_type": "code",
   "execution_count": 496,
   "id": "cfdfd3c1",
   "metadata": {},
   "outputs": [
    {
     "data": {
      "text/plain": [
       "-1.8510815127911826"
      ]
     },
     "execution_count": 496,
     "metadata": {},
     "output_type": "execute_result"
    }
   ],
   "source": [
    "#Média da acurácia do modelo usando cross validation\n",
    "\n",
    "val_res_clf.mean()"
   ]
  },
  {
   "cell_type": "code",
   "execution_count": 497,
   "id": "4e6cacf8",
   "metadata": {},
   "outputs": [
    {
     "name": "stderr",
     "output_type": "stream",
     "text": [
      "<ipython-input-497-4263dd76b542>:2: SettingWithCopyWarning: \n",
      "A value is trying to be set on a copy of a slice from a DataFrame.\n",
      "Try using .loc[row_indexer,col_indexer] = value instead\n",
      "\n",
      "See the caveats in the documentation: https://pandas.pydata.org/pandas-docs/stable/user_guide/indexing.html#returning-a-view-versus-a-copy\n",
      "  df1['classificacao'] = classificacao\n"
     ]
    },
    {
     "data": {
      "text/html": [
       "<div>\n",
       "<style scoped>\n",
       "    .dataframe tbody tr th:only-of-type {\n",
       "        vertical-align: middle;\n",
       "    }\n",
       "\n",
       "    .dataframe tbody tr th {\n",
       "        vertical-align: top;\n",
       "    }\n",
       "\n",
       "    .dataframe thead th {\n",
       "        text-align: right;\n",
       "    }\n",
       "</style>\n",
       "<table border=\"1\" class=\"dataframe\">\n",
       "  <thead>\n",
       "    <tr style=\"text-align: right;\">\n",
       "      <th></th>\n",
       "      <th>Matemática</th>\n",
       "      <th>classificacao</th>\n",
       "    </tr>\n",
       "  </thead>\n",
       "  <tbody>\n",
       "    <tr>\n",
       "      <th>0</th>\n",
       "      <td>1.0</td>\n",
       "      <td>1.0</td>\n",
       "    </tr>\n",
       "    <tr>\n",
       "      <th>1</th>\n",
       "      <td>1.0</td>\n",
       "      <td>1.0</td>\n",
       "    </tr>\n",
       "    <tr>\n",
       "      <th>2</th>\n",
       "      <td>1.0</td>\n",
       "      <td>1.0</td>\n",
       "    </tr>\n",
       "    <tr>\n",
       "      <th>3</th>\n",
       "      <td>1.0</td>\n",
       "      <td>1.0</td>\n",
       "    </tr>\n",
       "    <tr>\n",
       "      <th>4</th>\n",
       "      <td>1.0</td>\n",
       "      <td>1.0</td>\n",
       "    </tr>\n",
       "    <tr>\n",
       "      <th>...</th>\n",
       "      <td>...</td>\n",
       "      <td>...</td>\n",
       "    </tr>\n",
       "    <tr>\n",
       "      <th>1495</th>\n",
       "      <td>0.0</td>\n",
       "      <td>0.0</td>\n",
       "    </tr>\n",
       "    <tr>\n",
       "      <th>1496</th>\n",
       "      <td>0.0</td>\n",
       "      <td>0.0</td>\n",
       "    </tr>\n",
       "    <tr>\n",
       "      <th>1497</th>\n",
       "      <td>0.0</td>\n",
       "      <td>0.0</td>\n",
       "    </tr>\n",
       "    <tr>\n",
       "      <th>1498</th>\n",
       "      <td>0.0</td>\n",
       "      <td>0.0</td>\n",
       "    </tr>\n",
       "    <tr>\n",
       "      <th>1499</th>\n",
       "      <td>0.0</td>\n",
       "      <td>0.0</td>\n",
       "    </tr>\n",
       "  </tbody>\n",
       "</table>\n",
       "<p>1500 rows × 2 columns</p>\n",
       "</div>"
      ],
      "text/plain": [
       "      Matemática  classificacao\n",
       "0            1.0            1.0\n",
       "1            1.0            1.0\n",
       "2            1.0            1.0\n",
       "3            1.0            1.0\n",
       "4            1.0            1.0\n",
       "...          ...            ...\n",
       "1495         0.0            0.0\n",
       "1496         0.0            0.0\n",
       "1497         0.0            0.0\n",
       "1498         0.0            0.0\n",
       "1499         0.0            0.0\n",
       "\n",
       "[1500 rows x 2 columns]"
      ]
     },
     "execution_count": 497,
     "metadata": {},
     "output_type": "execute_result"
    }
   ],
   "source": [
    "classificacao = tester.predict(data)\n",
    "df1['classificacao'] = classificacao\n",
    "\n",
    "df1[['Matemática', 'classificacao']]"
   ]
  },
  {
   "cell_type": "code",
   "execution_count": 498,
   "id": "0ad1fd8a",
   "metadata": {},
   "outputs": [
    {
     "name": "stderr",
     "output_type": "stream",
     "text": [
      "<ipython-input-498-ab543f373148>:1: SettingWithCopyWarning: \n",
      "A value is trying to be set on a copy of a slice from a DataFrame.\n",
      "Try using .loc[row_indexer,col_indexer] = value instead\n",
      "\n",
      "See the caveats in the documentation: https://pandas.pydata.org/pandas-docs/stable/user_guide/indexing.html#returning-a-view-versus-a-copy\n",
      "  df1['diff'] = df1['Matemática'] - df1['classificacao']\n"
     ]
    },
    {
     "data": {
      "text/html": [
       "<div>\n",
       "<style scoped>\n",
       "    .dataframe tbody tr th:only-of-type {\n",
       "        vertical-align: middle;\n",
       "    }\n",
       "\n",
       "    .dataframe tbody tr th {\n",
       "        vertical-align: top;\n",
       "    }\n",
       "\n",
       "    .dataframe thead th {\n",
       "        text-align: right;\n",
       "    }\n",
       "</style>\n",
       "<table border=\"1\" class=\"dataframe\">\n",
       "  <thead>\n",
       "    <tr style=\"text-align: right;\">\n",
       "      <th></th>\n",
       "      <th>diff</th>\n",
       "    </tr>\n",
       "  </thead>\n",
       "  <tbody>\n",
       "    <tr>\n",
       "      <th>0.000000</th>\n",
       "      <td>1326</td>\n",
       "    </tr>\n",
       "    <tr>\n",
       "      <th>-0.200000</th>\n",
       "      <td>34</td>\n",
       "    </tr>\n",
       "    <tr>\n",
       "      <th>1.000000</th>\n",
       "      <td>19</td>\n",
       "    </tr>\n",
       "    <tr>\n",
       "      <th>-0.111111</th>\n",
       "      <td>12</td>\n",
       "    </tr>\n",
       "    <tr>\n",
       "      <th>-0.500000</th>\n",
       "      <td>12</td>\n",
       "    </tr>\n",
       "    <tr>\n",
       "      <th>0.111111</th>\n",
       "      <td>10</td>\n",
       "    </tr>\n",
       "    <tr>\n",
       "      <th>-0.125000</th>\n",
       "      <td>10</td>\n",
       "    </tr>\n",
       "    <tr>\n",
       "      <th>-0.300000</th>\n",
       "      <td>8</td>\n",
       "    </tr>\n",
       "    <tr>\n",
       "      <th>-0.375000</th>\n",
       "      <td>8</td>\n",
       "    </tr>\n",
       "    <tr>\n",
       "      <th>0.500000</th>\n",
       "      <td>8</td>\n",
       "    </tr>\n",
       "    <tr>\n",
       "      <th>-1.000000</th>\n",
       "      <td>7</td>\n",
       "    </tr>\n",
       "    <tr>\n",
       "      <th>0.800000</th>\n",
       "      <td>7</td>\n",
       "    </tr>\n",
       "    <tr>\n",
       "      <th>-0.250000</th>\n",
       "      <td>7</td>\n",
       "    </tr>\n",
       "    <tr>\n",
       "      <th>0.333333</th>\n",
       "      <td>4</td>\n",
       "    </tr>\n",
       "    <tr>\n",
       "      <th>0.625000</th>\n",
       "      <td>4</td>\n",
       "    </tr>\n",
       "    <tr>\n",
       "      <th>0.400000</th>\n",
       "      <td>4</td>\n",
       "    </tr>\n",
       "    <tr>\n",
       "      <th>-0.333333</th>\n",
       "      <td>4</td>\n",
       "    </tr>\n",
       "    <tr>\n",
       "      <th>0.700000</th>\n",
       "      <td>3</td>\n",
       "    </tr>\n",
       "    <tr>\n",
       "      <th>0.750000</th>\n",
       "      <td>3</td>\n",
       "    </tr>\n",
       "    <tr>\n",
       "      <th>0.666667</th>\n",
       "      <td>3</td>\n",
       "    </tr>\n",
       "    <tr>\n",
       "      <th>0.875000</th>\n",
       "      <td>2</td>\n",
       "    </tr>\n",
       "    <tr>\n",
       "      <th>-0.600000</th>\n",
       "      <td>2</td>\n",
       "    </tr>\n",
       "    <tr>\n",
       "      <th>0.888889</th>\n",
       "      <td>1</td>\n",
       "    </tr>\n",
       "    <tr>\n",
       "      <th>-0.888889</th>\n",
       "      <td>1</td>\n",
       "    </tr>\n",
       "    <tr>\n",
       "      <th>-0.666667</th>\n",
       "      <td>1</td>\n",
       "    </tr>\n",
       "  </tbody>\n",
       "</table>\n",
       "</div>"
      ],
      "text/plain": [
       "           diff\n",
       " 0.000000  1326\n",
       "-0.200000    34\n",
       " 1.000000    19\n",
       "-0.111111    12\n",
       "-0.500000    12\n",
       " 0.111111    10\n",
       "-0.125000    10\n",
       "-0.300000     8\n",
       "-0.375000     8\n",
       " 0.500000     8\n",
       "-1.000000     7\n",
       " 0.800000     7\n",
       "-0.250000     7\n",
       " 0.333333     4\n",
       " 0.625000     4\n",
       " 0.400000     4\n",
       "-0.333333     4\n",
       " 0.700000     3\n",
       " 0.750000     3\n",
       " 0.666667     3\n",
       " 0.875000     2\n",
       "-0.600000     2\n",
       " 0.888889     1\n",
       "-0.888889     1\n",
       "-0.666667     1"
      ]
     },
     "execution_count": 498,
     "metadata": {},
     "output_type": "execute_result"
    }
   ],
   "source": [
    "df1['diff'] = df1['Matemática'] - df1['classificacao']\n",
    "\n",
    "df1['diff'].value_counts().to_frame()"
   ]
  },
  {
   "cell_type": "markdown",
   "id": "b2902aca",
   "metadata": {},
   "source": [
    "### Random Forest"
   ]
  },
  {
   "cell_type": "code",
   "execution_count": 499,
   "id": "b69a02f0",
   "metadata": {},
   "outputs": [],
   "source": [
    "from sklearn.metrics import mean_absolute_error\n",
    "\n",
    "x_train, x_test, y_train, y_test = train_test_split(x, y, test_size = 0.3, random_state = 0)\n",
    "\n",
    "def get_mae(max_leaf_nodes, train_x, test_x, train_y, test_y):\n",
    "    rf = RandomForestClassifier(max_leaf_nodes=max_leaf_nodes, random_state=0)\n",
    "    rf.fit(x_train, y_train)\n",
    "    predict_mae = rf.predict(x_test)\n",
    "    mae = mean_absolute_error(y_test, predict_mae)\n",
    "    return mae"
   ]
  },
  {
   "cell_type": "code",
   "execution_count": 500,
   "id": "b9c2a1a2",
   "metadata": {},
   "outputs": [
    {
     "name": "stdout",
     "output_type": "stream",
     "text": [
      "0.08222222222222222 1000\n"
     ]
    }
   ],
   "source": [
    "candidates_max_nodes = [5, 10, 50, 100, 250, 500, 1000]\n",
    "\n",
    "error = 1e10\n",
    "for candidate in candidates_max_nodes:\n",
    "    erro_no_loop = get_mae(candidate, x_train, x_test, y_train, y_test)\n",
    "    \n",
    "    if erro_no_loop < error:\n",
    "        error = erro_no_loop\n",
    "        best_tree_size = error\n",
    "        \n",
    "print(best_tree_size, candidate)"
   ]
  },
  {
   "cell_type": "code",
   "execution_count": 501,
   "id": "9a17497c",
   "metadata": {},
   "outputs": [
    {
     "data": {
      "text/plain": [
       "0.28674417556808757"
      ]
     },
     "execution_count": 501,
     "metadata": {},
     "output_type": "execute_result"
    }
   ],
   "source": [
    "#Usando randomforest Classifier\n",
    "\n",
    "from sklearn.ensemble import RandomForestClassifier\n",
    "\n",
    "rf = RandomForestClassifier(\n",
    "    n_estimators=1000, \n",
    "    random_state=10, \n",
    "    criterion='gini', \n",
    "    max_depth=1000, \n",
    "    min_samples_leaf=2\n",
    ")\n",
    "\n",
    "rf.fit(x_train, y_train)\n",
    "\n",
    "pred2 = rf.predict(x_test)\n",
    "\n",
    "np.sqrt(mean_squared_error(y_test, pred2))"
   ]
  },
  {
   "cell_type": "code",
   "execution_count": 502,
   "id": "6ceb2555",
   "metadata": {},
   "outputs": [
    {
     "name": "stdout",
     "output_type": "stream",
     "text": [
      "Exatidão (Accuracy): 0.9178\n"
     ]
    }
   ],
   "source": [
    "ms = rf.score(x_test, y_test) \n",
    "\n",
    "print(\"Exatidão (Accuracy): {0:.4f}\".format(ms))"
   ]
  },
  {
   "cell_type": "code",
   "execution_count": 503,
   "id": "ed20aff2",
   "metadata": {},
   "outputs": [
    {
     "data": {
      "text/plain": [
       "array([0.86      , 0.88      , 0.82      , 0.88      , 0.84      ,\n",
       "       0.89333333, 0.88      , 0.88      , 0.84      , 0.88      ])"
      ]
     },
     "execution_count": 503,
     "metadata": {},
     "output_type": "execute_result"
    }
   ],
   "source": [
    "#Verificação do comportamento do modelo para determinados \"trechos\" do dataset\n",
    "\n",
    "from sklearn.model_selection import cross_val_score\n",
    "\n",
    "val_res_clf = cross_val_score(rf, data, target, cv=10)\n",
    "val_res_clf"
   ]
  },
  {
   "cell_type": "code",
   "execution_count": 504,
   "id": "d8f93f8d",
   "metadata": {},
   "outputs": [
    {
     "data": {
      "text/plain": [
       "0.8653333333333334"
      ]
     },
     "execution_count": 504,
     "metadata": {},
     "output_type": "execute_result"
    }
   ],
   "source": [
    "#Média da acurácia do modelo usando cross validation\n",
    "\n",
    "val_res_clf.mean()"
   ]
  },
  {
   "cell_type": "code",
   "execution_count": 505,
   "id": "9c428ac8",
   "metadata": {},
   "outputs": [
    {
     "data": {
      "image/png": "[encoded data removed]",
      "text/plain": [
       "<Figure size 432x288 with 1 Axes>"
      ]
     },
     "metadata": {
      "needs_background": "light"
     },
     "output_type": "display_data"
    }
   ],
   "source": [
    "y_pred_prob = rf.predict_proba(x_test)[:,1]\n",
    "\n",
    "# Gera fpr, tpr e thresholds\n",
    "fpr, tpr, thresholds = roc_curve(y_test, y_pred_prob)\n",
    "\n",
    "# curva ROC\n",
    "plt.plot([0, 1], [0, 1], 'k--')\n",
    "plt.plot(fpr, tpr)\n",
    "plt.xlabel('False Positive Rate')\n",
    "plt.ylabel('True Positive Rate')\n",
    "plt.title('ROC Curve')\n",
    "plt.show()"
   ]
  },
  {
   "cell_type": "code",
   "execution_count": 506,
   "id": "3a610122",
   "metadata": {},
   "outputs": [
    {
     "name": "stderr",
     "output_type": "stream",
     "text": [
      "<ipython-input-506-5a6918966757>:4: SettingWithCopyWarning: \n",
      "A value is trying to be set on a copy of a slice from a DataFrame.\n",
      "Try using .loc[row_indexer,col_indexer] = value instead\n",
      "\n",
      "See the caveats in the documentation: https://pandas.pydata.org/pandas-docs/stable/user_guide/indexing.html#returning-a-view-versus-a-copy\n",
      "  df1['probabilidade'] = probabilidade\n",
      "<ipython-input-506-5a6918966757>:5: SettingWithCopyWarning: \n",
      "A value is trying to be set on a copy of a slice from a DataFrame.\n",
      "Try using .loc[row_indexer,col_indexer] = value instead\n",
      "\n",
      "See the caveats in the documentation: https://pandas.pydata.org/pandas-docs/stable/user_guide/indexing.html#returning-a-view-versus-a-copy\n",
      "  df1['classificacao'] = classificacao\n"
     ]
    },
    {
     "data": {
      "text/html": [
       "<div>\n",
       "<style scoped>\n",
       "    .dataframe tbody tr th:only-of-type {\n",
       "        vertical-align: middle;\n",
       "    }\n",
       "\n",
       "    .dataframe tbody tr th {\n",
       "        vertical-align: top;\n",
       "    }\n",
       "\n",
       "    .dataframe thead th {\n",
       "        text-align: right;\n",
       "    }\n",
       "</style>\n",
       "<table border=\"1\" class=\"dataframe\">\n",
       "  <thead>\n",
       "    <tr style=\"text-align: right;\">\n",
       "      <th></th>\n",
       "      <th>Matemática</th>\n",
       "      <th>probabilidade</th>\n",
       "      <th>classificacao</th>\n",
       "    </tr>\n",
       "  </thead>\n",
       "  <tbody>\n",
       "    <tr>\n",
       "      <th>0</th>\n",
       "      <td>1.0</td>\n",
       "      <td>0.608784</td>\n",
       "      <td>1.0</td>\n",
       "    </tr>\n",
       "    <tr>\n",
       "      <th>1</th>\n",
       "      <td>1.0</td>\n",
       "      <td>0.608784</td>\n",
       "      <td>1.0</td>\n",
       "    </tr>\n",
       "    <tr>\n",
       "      <th>2</th>\n",
       "      <td>1.0</td>\n",
       "      <td>0.608784</td>\n",
       "      <td>1.0</td>\n",
       "    </tr>\n",
       "    <tr>\n",
       "      <th>3</th>\n",
       "      <td>1.0</td>\n",
       "      <td>0.608784</td>\n",
       "      <td>1.0</td>\n",
       "    </tr>\n",
       "    <tr>\n",
       "      <th>4</th>\n",
       "      <td>1.0</td>\n",
       "      <td>0.608784</td>\n",
       "      <td>1.0</td>\n",
       "    </tr>\n",
       "    <tr>\n",
       "      <th>...</th>\n",
       "      <td>...</td>\n",
       "      <td>...</td>\n",
       "      <td>...</td>\n",
       "    </tr>\n",
       "    <tr>\n",
       "      <th>1495</th>\n",
       "      <td>0.0</td>\n",
       "      <td>0.098336</td>\n",
       "      <td>0.0</td>\n",
       "    </tr>\n",
       "    <tr>\n",
       "      <th>1496</th>\n",
       "      <td>0.0</td>\n",
       "      <td>0.098336</td>\n",
       "      <td>0.0</td>\n",
       "    </tr>\n",
       "    <tr>\n",
       "      <th>1497</th>\n",
       "      <td>0.0</td>\n",
       "      <td>0.098336</td>\n",
       "      <td>0.0</td>\n",
       "    </tr>\n",
       "    <tr>\n",
       "      <th>1498</th>\n",
       "      <td>0.0</td>\n",
       "      <td>0.098336</td>\n",
       "      <td>0.0</td>\n",
       "    </tr>\n",
       "    <tr>\n",
       "      <th>1499</th>\n",
       "      <td>0.0</td>\n",
       "      <td>0.098336</td>\n",
       "      <td>0.0</td>\n",
       "    </tr>\n",
       "  </tbody>\n",
       "</table>\n",
       "<p>1500 rows × 3 columns</p>\n",
       "</div>"
      ],
      "text/plain": [
       "      Matemática  probabilidade  classificacao\n",
       "0            1.0       0.608784            1.0\n",
       "1            1.0       0.608784            1.0\n",
       "2            1.0       0.608784            1.0\n",
       "3            1.0       0.608784            1.0\n",
       "4            1.0       0.608784            1.0\n",
       "...          ...            ...            ...\n",
       "1495         0.0       0.098336            0.0\n",
       "1496         0.0       0.098336            0.0\n",
       "1497         0.0       0.098336            0.0\n",
       "1498         0.0       0.098336            0.0\n",
       "1499         0.0       0.098336            0.0\n",
       "\n",
       "[1500 rows x 3 columns]"
      ]
     },
     "execution_count": 506,
     "metadata": {},
     "output_type": "execute_result"
    }
   ],
   "source": [
    "probabilidade = rf.predict_proba(data)[:,1]\n",
    "classificacao = rf.predict(data)\n",
    "\n",
    "df1['probabilidade'] = probabilidade\n",
    "df1['classificacao'] = classificacao\n",
    "\n",
    "df1[['Matemática', 'probabilidade', 'classificacao']]"
   ]
  },
  {
   "cell_type": "code",
   "execution_count": 507,
   "id": "f0932a1e",
   "metadata": {},
   "outputs": [
    {
     "name": "stdout",
     "output_type": "stream",
     "text": [
      "[[386   3]\n",
      " [ 34  27]]\n",
      "              precision    recall  f1-score   support\n",
      "\n",
      "         0.0       0.92      0.99      0.95       389\n",
      "         1.0       0.90      0.44      0.59        61\n",
      "\n",
      "    accuracy                           0.92       450\n",
      "   macro avg       0.91      0.72      0.77       450\n",
      "weighted avg       0.92      0.92      0.91       450\n",
      "\n"
     ]
    }
   ],
   "source": [
    "from sklearn.metrics import confusion_matrix, classification_report\n",
    "\n",
    "# matriz de confusao\n",
    "print(confusion_matrix(y_test, rf.predict(x_test)))\n",
    "\n",
    "# outras metricas\n",
    "print(classification_report(y_test, rf.predict(x_test)))"
   ]
  },
  {
   "cell_type": "code",
   "execution_count": 508,
   "id": "a03381a1",
   "metadata": {},
   "outputs": [
    {
     "name": "stderr",
     "output_type": "stream",
     "text": [
      "<ipython-input-508-4223518f731b>:1: SettingWithCopyWarning: \n",
      "A value is trying to be set on a copy of a slice from a DataFrame.\n",
      "Try using .loc[row_indexer,col_indexer] = value instead\n",
      "\n",
      "See the caveats in the documentation: https://pandas.pydata.org/pandas-docs/stable/user_guide/indexing.html#returning-a-view-versus-a-copy\n",
      "  df1['diff'] = df1['Matemática'] - df1['classificacao']\n"
     ]
    },
    {
     "data": {
      "text/plain": [
       " 0.0    1399\n",
       " 1.0      95\n",
       "-1.0       6\n",
       "Name: diff, dtype: int64"
      ]
     },
     "execution_count": 508,
     "metadata": {},
     "output_type": "execute_result"
    }
   ],
   "source": [
    "df1['diff'] = df1['Matemática'] - df1['classificacao']\n",
    "\n",
    "df1['diff'].value_counts()"
   ]
  },
  {
   "cell_type": "markdown",
   "id": "7978344d",
   "metadata": {},
   "source": [
    "### Naive Bayes"
   ]
  },
  {
   "cell_type": "code",
   "execution_count": 509,
   "id": "02f1ae11",
   "metadata": {},
   "outputs": [
    {
     "data": {
      "text/plain": [
       "GaussianNB()"
      ]
     },
     "execution_count": 509,
     "metadata": {},
     "output_type": "execute_result"
    }
   ],
   "source": [
    "from sklearn.naive_bayes import GaussianNB\n",
    "from sklearn import metrics\n",
    "\n",
    "modelo_v1 = GaussianNB()\n",
    "\n",
    "modelo_v1.fit(x_train, y_train.ravel())"
   ]
  },
  {
   "cell_type": "code",
   "execution_count": 510,
   "id": "646d1f02",
   "metadata": {},
   "outputs": [
    {
     "name": "stdout",
     "output_type": "stream",
     "text": [
      "Exatidão (Accuracy): 0.2467\n"
     ]
    }
   ],
   "source": [
    "nb_predict_train = modelo_v1.predict(x_test)\n",
    "\n",
    "print(\"Exatidão (Accuracy): {0:.4f}\".format(metrics.accuracy_score(y_test, nb_predict_train)))"
   ]
  },
  {
   "cell_type": "markdown",
   "id": "b7628094",
   "metadata": {},
   "source": [
    "### Logistic Regression\n",
    "\n"
   ]
  },
  {
   "cell_type": "code",
   "execution_count": 511,
   "id": "fedbd3ba",
   "metadata": {},
   "outputs": [],
   "source": [
    "from sklearn.linear_model import LogisticRegression\n",
    "from sklearn.model_selection import train_test_split\n",
    "from sklearn.metrics import roc_curve\n",
    "\n",
    "logit = LogisticRegression()"
   ]
  },
  {
   "cell_type": "code",
   "execution_count": 512,
   "id": "5c641d41",
   "metadata": {},
   "outputs": [
    {
     "name": "stderr",
     "output_type": "stream",
     "text": [
      "c:\\Python39\\lib\\site-packages\\sklearn\\linear_model\\_logistic.py:763: ConvergenceWarning: lbfgs failed to converge (status=1):\n",
      "STOP: TOTAL NO. of ITERATIONS REACHED LIMIT.\n",
      "\n",
      "Increase the number of iterations (max_iter) or scale the data as shown in:\n",
      "    https://scikit-learn.org/stable/modules/preprocessing.html\n",
      "Please also refer to the documentation for alternative solver options:\n",
      "    https://scikit-learn.org/stable/modules/linear_model.html#logistic-regression\n",
      "  n_iter_i = _check_optimize_result(\n"
     ]
    },
    {
     "data": {
      "text/plain": [
       "LogisticRegression()"
      ]
     },
     "execution_count": 512,
     "metadata": {},
     "output_type": "execute_result"
    }
   ],
   "source": [
    "logit.fit(x_train, y_train)"
   ]
  },
  {
   "cell_type": "code",
   "execution_count": 513,
   "id": "8f8f3b67",
   "metadata": {},
   "outputs": [
    {
     "name": "stdout",
     "output_type": "stream",
     "text": [
      "Exatidão (Accuracy): 0.8644\n"
     ]
    }
   ],
   "source": [
    "y_pred = logit.predict(x_test)\n",
    "\n",
    "print(\"Exatidão (Accuracy): {0:.4f}\".format(metrics.accuracy_score(y_test, y_pred)))"
   ]
  },
  {
   "cell_type": "code",
   "execution_count": 514,
   "id": "fd2c3469",
   "metadata": {},
   "outputs": [
    {
     "name": "stdout",
     "output_type": "stream",
     "text": [
      "[[389   0]\n",
      " [ 61   0]]\n",
      "              precision    recall  f1-score   support\n",
      "\n",
      "         0.0       0.86      1.00      0.93       389\n",
      "         1.0       0.00      0.00      0.00        61\n",
      "\n",
      "    accuracy                           0.86       450\n",
      "   macro avg       0.43      0.50      0.46       450\n",
      "weighted avg       0.75      0.86      0.80       450\n",
      "\n"
     ]
    },
    {
     "name": "stderr",
     "output_type": "stream",
     "text": [
      "c:\\Python39\\lib\\site-packages\\sklearn\\metrics\\_classification.py:1248: UndefinedMetricWarning: Precision and F-score are ill-defined and being set to 0.0 in labels with no predicted samples. Use `zero_division` parameter to control this behavior.\n",
      "  _warn_prf(average, modifier, msg_start, len(result))\n",
      "c:\\Python39\\lib\\site-packages\\sklearn\\metrics\\_classification.py:1248: UndefinedMetricWarning: Precision and F-score are ill-defined and being set to 0.0 in labels with no predicted samples. Use `zero_division` parameter to control this behavior.\n",
      "  _warn_prf(average, modifier, msg_start, len(result))\n",
      "c:\\Python39\\lib\\site-packages\\sklearn\\metrics\\_classification.py:1248: UndefinedMetricWarning: Precision and F-score are ill-defined and being set to 0.0 in labels with no predicted samples. Use `zero_division` parameter to control this behavior.\n",
      "  _warn_prf(average, modifier, msg_start, len(result))\n"
     ]
    }
   ],
   "source": [
    "# acuracia\n",
    "logit.score(x_test, y_test)\n",
    "\n",
    "# matriz de confusao\n",
    "print(confusion_matrix(y_test, y_pred))\n",
    "\n",
    "# outras metricas\n",
    "print(classification_report(y_test, y_pred))"
   ]
  },
  {
   "cell_type": "code",
   "execution_count": 515,
   "id": "3f792e79",
   "metadata": {},
   "outputs": [
    {
     "data": {
      "image/png": "[encoded data removed]",
      "text/plain": [
       "<Figure size 432x288 with 1 Axes>"
      ]
     },
     "metadata": {
      "needs_background": "light"
     },
     "output_type": "display_data"
    }
   ],
   "source": [
    "y_pred_prob = logit.predict_proba(x_test)[:,1]\n",
    "\n",
    "# Gera fpr, tpr e thresholds\n",
    "fpr, tpr, thresholds = roc_curve(y_test, y_pred_prob)\n",
    "\n",
    "# curva ROC\n",
    "plt.plot([0, 1], [0, 1], 'k--')\n",
    "plt.plot(fpr, tpr)\n",
    "plt.xlabel('False Positive Rate')\n",
    "plt.ylabel('True Positive Rate')\n",
    "plt.title('ROC Curve')\n",
    "plt.show()"
   ]
  },
  {
   "cell_type": "code",
   "execution_count": 516,
   "id": "5ef8400e",
   "metadata": {},
   "outputs": [
    {
     "name": "stderr",
     "output_type": "stream",
     "text": [
      "c:\\Python39\\lib\\site-packages\\sklearn\\linear_model\\_logistic.py:763: ConvergenceWarning: lbfgs failed to converge (status=1):\n",
      "STOP: TOTAL NO. of ITERATIONS REACHED LIMIT.\n",
      "\n",
      "Increase the number of iterations (max_iter) or scale the data as shown in:\n",
      "    https://scikit-learn.org/stable/modules/preprocessing.html\n",
      "Please also refer to the documentation for alternative solver options:\n",
      "    https://scikit-learn.org/stable/modules/linear_model.html#logistic-regression\n",
      "  n_iter_i = _check_optimize_result(\n",
      "c:\\Python39\\lib\\site-packages\\sklearn\\linear_model\\_logistic.py:763: ConvergenceWarning: lbfgs failed to converge (status=1):\n",
      "STOP: TOTAL NO. of ITERATIONS REACHED LIMIT.\n",
      "\n",
      "Increase the number of iterations (max_iter) or scale the data as shown in:\n",
      "    https://scikit-learn.org/stable/modules/preprocessing.html\n",
      "Please also refer to the documentation for alternative solver options:\n",
      "    https://scikit-learn.org/stable/modules/linear_model.html#logistic-regression\n",
      "  n_iter_i = _check_optimize_result(\n"
     ]
    },
    {
     "data": {
      "text/plain": [
       "0.8593333333333333"
      ]
     },
     "execution_count": 516,
     "metadata": {},
     "output_type": "execute_result"
    }
   ],
   "source": [
    "val_res_logit = cross_val_score(logit, data, target, cv=2)\n",
    "val_res_logit\n",
    "val_res_logit.mean()"
   ]
  },
  {
   "cell_type": "markdown",
   "id": "399d1a28",
   "metadata": {},
   "source": [
    "## Testando o modelo com os dados novos do dataset"
   ]
  },
  {
   "cell_type": "markdown",
   "id": "6532c5a6",
   "metadata": {},
   "source": [
    "O modelo que, por testes, melhor obteve resultados para prever o novo número de professores de matemática, a partir de características de idade, sexo, e até mesmo em relação a outras matérias, é o modelo de random forest."
   ]
  },
  {
   "cell_type": "code",
   "execution_count": 598,
   "id": "5f968cc2",
   "metadata": {},
   "outputs": [],
   "source": [
    "#Verificando quantos professores, a partir do conjunto de dados, serão da matéria de matemática\n",
    "df2 = dados_1[3001:6001].sample(n=100)\n",
    "\n",
    "data = df2.drop('Matemática', axis=1)\n",
    "target = df2['Matemática']\n",
    "\n",
    "data.fillna(0, inplace=True)\n",
    "target.fillna(0, inplace=True)\n",
    "\n",
    "x = data\n",
    "y = target"
   ]
  },
  {
   "cell_type": "code",
   "execution_count": 635,
   "id": "f623f8f8",
   "metadata": {},
   "outputs": [
    {
     "data": {
      "text/plain": [
       "0.469041575982343"
      ]
     },
     "execution_count": 635,
     "metadata": {},
     "output_type": "execute_result"
    }
   ],
   "source": [
    "pred1 = rf.predict(data)\n",
    "\n",
    "np.sqrt(mean_squared_error(target, pred1))"
   ]
  },
  {
   "cell_type": "code",
   "execution_count": 636,
   "id": "860fca01",
   "metadata": {},
   "outputs": [
    {
     "name": "stdout",
     "output_type": "stream",
     "text": [
      "8.0 | 0.78 | (array([0., 1.]), array([92,  8], dtype=int64))\n"
     ]
    }
   ],
   "source": [
    "print(pred1.sum(), '|', rf.score(data, target), '|', np.unique(pred1, return_counts=True))"
   ]
  },
  {
   "cell_type": "code",
   "execution_count": 637,
   "id": "d770e5b8",
   "metadata": {},
   "outputs": [
    {
     "name": "stdout",
     "output_type": "stream",
     "text": [
      "20.0 % do total da contagem é de professores de Matemática\n"
     ]
    }
   ],
   "source": [
    "print(round((df2['Matemática'].sum()/df2['Matemática'].count())*100, 2), '% do total da contagem é de professores de Matemática')"
   ]
  },
  {
   "cell_type": "code",
   "execution_count": 638,
   "id": "4cc65303",
   "metadata": {},
   "outputs": [
    {
     "data": {
      "text/html": [
       "<div>\n",
       "<style scoped>\n",
       "    .dataframe tbody tr th:only-of-type {\n",
       "        vertical-align: middle;\n",
       "    }\n",
       "\n",
       "    .dataframe tbody tr th {\n",
       "        vertical-align: top;\n",
       "    }\n",
       "\n",
       "    .dataframe thead th {\n",
       "        text-align: right;\n",
       "    }\n",
       "</style>\n",
       "<table border=\"1\" class=\"dataframe\">\n",
       "  <thead>\n",
       "    <tr style=\"text-align: right;\">\n",
       "      <th></th>\n",
       "      <th>Matemática</th>\n",
       "      <th>Predict</th>\n",
       "      <th>Probabilidade</th>\n",
       "    </tr>\n",
       "  </thead>\n",
       "  <tbody>\n",
       "    <tr>\n",
       "      <th>1</th>\n",
       "      <td>0.0</td>\n",
       "      <td>0.0</td>\n",
       "      <td>0.079831</td>\n",
       "    </tr>\n",
       "    <tr>\n",
       "      <th>2</th>\n",
       "      <td>0.0</td>\n",
       "      <td>0.0</td>\n",
       "      <td>0.113205</td>\n",
       "    </tr>\n",
       "    <tr>\n",
       "      <th>3</th>\n",
       "      <td>0.0</td>\n",
       "      <td>0.0</td>\n",
       "      <td>0.021144</td>\n",
       "    </tr>\n",
       "    <tr>\n",
       "      <th>4</th>\n",
       "      <td>1.0</td>\n",
       "      <td>0.0</td>\n",
       "      <td>0.196932</td>\n",
       "    </tr>\n",
       "    <tr>\n",
       "      <th>5</th>\n",
       "      <td>1.0</td>\n",
       "      <td>0.0</td>\n",
       "      <td>0.037179</td>\n",
       "    </tr>\n",
       "    <tr>\n",
       "      <th>...</th>\n",
       "      <td>...</td>\n",
       "      <td>...</td>\n",
       "      <td>...</td>\n",
       "    </tr>\n",
       "    <tr>\n",
       "      <th>96</th>\n",
       "      <td>0.0</td>\n",
       "      <td>0.0</td>\n",
       "      <td>0.072788</td>\n",
       "    </tr>\n",
       "    <tr>\n",
       "      <th>97</th>\n",
       "      <td>0.0</td>\n",
       "      <td>0.0</td>\n",
       "      <td>0.052371</td>\n",
       "    </tr>\n",
       "    <tr>\n",
       "      <th>98</th>\n",
       "      <td>0.0</td>\n",
       "      <td>0.0</td>\n",
       "      <td>0.103862</td>\n",
       "    </tr>\n",
       "    <tr>\n",
       "      <th>99</th>\n",
       "      <td>0.0</td>\n",
       "      <td>0.0</td>\n",
       "      <td>0.048926</td>\n",
       "    </tr>\n",
       "    <tr>\n",
       "      <th>100</th>\n",
       "      <td>0.0</td>\n",
       "      <td>0.0</td>\n",
       "      <td>0.212675</td>\n",
       "    </tr>\n",
       "  </tbody>\n",
       "</table>\n",
       "<p>100 rows × 3 columns</p>\n",
       "</div>"
      ],
      "text/plain": [
       "     Matemática  Predict  Probabilidade\n",
       "1           0.0      0.0       0.079831\n",
       "2           0.0      0.0       0.113205\n",
       "3           0.0      0.0       0.021144\n",
       "4           1.0      0.0       0.196932\n",
       "5           1.0      0.0       0.037179\n",
       "..          ...      ...            ...\n",
       "96          0.0      0.0       0.072788\n",
       "97          0.0      0.0       0.052371\n",
       "98          0.0      0.0       0.103862\n",
       "99          0.0      0.0       0.048926\n",
       "100         0.0      0.0       0.212675\n",
       "\n",
       "[100 rows x 3 columns]"
      ]
     },
     "execution_count": 638,
     "metadata": {},
     "output_type": "execute_result"
    }
   ],
   "source": [
    "probabilidade = rf.predict_proba(data)[:,1]\n",
    "\n",
    "df2['Probabilidade'] = probabilidade\n",
    "df2['Predict'] = pred1\n",
    "\n",
    "df2.index = np.arange(1, len(df2) + 1)\n",
    "\n",
    "# pd.set_option(\"max_rows\", None)\n",
    "df2[['Matemática', 'Predict', 'Probabilidade']]"
   ]
  },
  {
   "cell_type": "code",
   "execution_count": 639,
   "id": "3e47e905",
   "metadata": {},
   "outputs": [
    {
     "data": {
      "text/plain": [
       "20.0"
      ]
     },
     "execution_count": 639,
     "metadata": {},
     "output_type": "execute_result"
    }
   ],
   "source": [
    "df2['Matemática'].sum()"
   ]
  },
  {
   "cell_type": "code",
   "execution_count": 640,
   "id": "73ec67db",
   "metadata": {},
   "outputs": [
    {
     "data": {
      "text/plain": [
       "8.0"
      ]
     },
     "execution_count": 640,
     "metadata": {},
     "output_type": "execute_result"
    }
   ],
   "source": [
    "df2['Predict'].sum()"
   ]
  },
  {
   "cell_type": "code",
   "execution_count": 641,
   "id": "e315b948",
   "metadata": {},
   "outputs": [
    {
     "data": {
      "text/plain": [
       " 0.0    78\n",
       " 1.0    17\n",
       "-1.0     5\n",
       "Name: Diff, dtype: int64"
      ]
     },
     "execution_count": 641,
     "metadata": {},
     "output_type": "execute_result"
    }
   ],
   "source": [
    "df2['Diff'] = df2['Matemática'] - df2['Predict']\n",
    "\n",
    "df2['Diff'].value_counts()"
   ]
  },
  {
   "cell_type": "code",
   "execution_count": 642,
   "id": "524076e2",
   "metadata": {},
   "outputs": [
    {
     "data": {
      "image/png": "[encoded data removed]",
      "text/plain": [
       "<Figure size 1440x288 with 1 Axes>"
      ]
     },
     "metadata": {
      "needs_background": "light"
     },
     "output_type": "display_data"
    }
   ],
   "source": [
    "plt.figure(figsize=(20, 4))\n",
    "\n",
    "sns.lineplot(data = df2[:1000], x = df2[:1000].index, y = 'Matemática', label = 'Real', color = 'red')\n",
    "sns.lineplot(data = df2[:1000], x = df2[:1000].index, y = 'Predict', label = 'Prediction', color = 'steelblue')\n",
    "plt.title('Real x Prediction')\n",
    "plt.xlabel('Índice de Amostragem')\n",
    "plt.ylabel('Predição se será da matéria x Fato')\n",
    "sns.despine(bottom = True, left = True)"
   ]
  },
  {
   "cell_type": "code",
   "execution_count": 643,
   "id": "c09f7a4d",
   "metadata": {
    "scrolled": true
   },
   "outputs": [
    {
     "name": "stdout",
     "output_type": "stream",
     "text": [
      "A porcentagem de acerto do modelo foi de 78.0%, com 22 erros, em uma amostragem de 100 dados\n"
     ]
    }
   ],
   "source": [
    "# Seguindo a linha de entender os erros e acertos de predição, e o quanto o modelo pode ser preciso, verificamos essa diferença\n",
    "difference_pred = df2[['Matemática', 'Predict']].loc[df2['Matemática'] != df2['Predict']]\n",
    "beautiful_pred = df2[['Matemática', 'Predict']].loc[df2['Matemática'] == df2['Predict']]\n",
    "n_of_rows = df2['Matemática'].count()\n",
    "\n",
    "print('A porcentagem de acerto do modelo foi de {}%, com {} erros, em uma amostragem de {} dados'.format(\n",
    "      (round(\n",
    "      (beautiful_pred['Predict'].count() / (beautiful_pred['Predict'].count() + difference_pred['Predict'].count())\n",
    "      ) * 100, 2)),\n",
    "      difference_pred['Predict'].count(),\n",
    "    n_of_rows\n",
    "    )\n",
    ")\n"
   ]
  },
  {
   "cell_type": "code",
   "execution_count": 644,
   "id": "c3547259",
   "metadata": {},
   "outputs": [
    {
     "data": {
      "text/html": [
       "<div>\n",
       "<style scoped>\n",
       "    .dataframe tbody tr th:only-of-type {\n",
       "        vertical-align: middle;\n",
       "    }\n",
       "\n",
       "    .dataframe tbody tr th {\n",
       "        vertical-align: top;\n",
       "    }\n",
       "\n",
       "    .dataframe thead th {\n",
       "        text-align: right;\n",
       "    }\n",
       "</style>\n",
       "<table border=\"1\" class=\"dataframe\">\n",
       "  <thead>\n",
       "    <tr style=\"text-align: right;\">\n",
       "      <th></th>\n",
       "      <th></th>\n",
       "      <th>0</th>\n",
       "    </tr>\n",
       "    <tr>\n",
       "      <th>Matemática</th>\n",
       "      <th>Predict</th>\n",
       "      <th></th>\n",
       "    </tr>\n",
       "  </thead>\n",
       "  <tbody>\n",
       "    <tr>\n",
       "      <th>0.0</th>\n",
       "      <th>0.0</th>\n",
       "      <td>75</td>\n",
       "    </tr>\n",
       "    <tr>\n",
       "      <th>1.0</th>\n",
       "      <th>1.0</th>\n",
       "      <td>3</td>\n",
       "    </tr>\n",
       "  </tbody>\n",
       "</table>\n",
       "</div>"
      ],
      "text/plain": [
       "                     0\n",
       "Matemática Predict    \n",
       "0.0        0.0      75\n",
       "1.0        1.0       3"
      ]
     },
     "execution_count": 644,
     "metadata": {},
     "output_type": "execute_result"
    }
   ],
   "source": [
    "# Predições Corretas do Modelo\n",
    "beautiful_pred.value_counts().to_frame()"
   ]
  },
  {
   "cell_type": "code",
   "execution_count": 645,
   "id": "84041f45",
   "metadata": {},
   "outputs": [
    {
     "data": {
      "text/html": [
       "<div>\n",
       "<style scoped>\n",
       "    .dataframe tbody tr th:only-of-type {\n",
       "        vertical-align: middle;\n",
       "    }\n",
       "\n",
       "    .dataframe tbody tr th {\n",
       "        vertical-align: top;\n",
       "    }\n",
       "\n",
       "    .dataframe thead th {\n",
       "        text-align: right;\n",
       "    }\n",
       "</style>\n",
       "<table border=\"1\" class=\"dataframe\">\n",
       "  <thead>\n",
       "    <tr style=\"text-align: right;\">\n",
       "      <th></th>\n",
       "      <th></th>\n",
       "      <th>0</th>\n",
       "    </tr>\n",
       "    <tr>\n",
       "      <th>Matemática</th>\n",
       "      <th>Predict</th>\n",
       "      <th></th>\n",
       "    </tr>\n",
       "  </thead>\n",
       "  <tbody>\n",
       "    <tr>\n",
       "      <th>1.0</th>\n",
       "      <th>0.0</th>\n",
       "      <td>17</td>\n",
       "    </tr>\n",
       "    <tr>\n",
       "      <th>0.0</th>\n",
       "      <th>1.0</th>\n",
       "      <td>5</td>\n",
       "    </tr>\n",
       "  </tbody>\n",
       "</table>\n",
       "</div>"
      ],
      "text/plain": [
       "                     0\n",
       "Matemática Predict    \n",
       "1.0        0.0      17\n",
       "0.0        1.0       5"
      ]
     },
     "execution_count": 645,
     "metadata": {},
     "output_type": "execute_result"
    }
   ],
   "source": [
    "# Predições Ruins\n",
    "difference_pred.value_counts().to_frame()"
   ]
  },
  {
   "cell_type": "code",
   "execution_count": 646,
   "id": "9c3c34fa",
   "metadata": {},
   "outputs": [],
   "source": [
    "#saving model\n",
    "import pickle\n",
    "pickle.dump(clf, open('F:\\Arquivos do Sistema SSD\\Python\\Análise de Dados\\microdados_censo_escolar_2020\\estudo_python_microdados_educacao_basica_2020/clf_model_teachers.pkl', 'wb'))"
   ]
  }
 ],
 "metadata": {
  "kernelspec": {
   "display_name": "Python 3",
   "language": "python",
   "name": "python3"
  },
  "language_info": {
   "codemirror_mode": {
    "name": "ipython",
    "version": 3
   },
   "file_extension": ".py",
   "mimetype": "text/x-python",
   "name": "python",
   "nbconvert_exporter": "python",
   "pygments_lexer": "ipython3",
   "version": "3.9.4"
  },
  "vscode": {
   "interpreter": {
    "hash": "81794d4967e6c3204c66dcd87b604927b115b27c00565d3d43f05ba2f3a2cb0d"
   }
  }
 },
 "nbformat": 4,
 "nbformat_minor": 5
}
